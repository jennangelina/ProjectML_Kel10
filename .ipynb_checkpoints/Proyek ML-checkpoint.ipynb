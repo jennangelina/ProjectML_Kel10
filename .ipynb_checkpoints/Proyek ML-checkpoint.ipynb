{
 "cells": [
  {
   "cell_type": "markdown",
   "id": "gvZulGKM8UIF",
   "metadata": {
    "id": "gvZulGKM8UIF"
   },
   "source": [
    "# Import Library"
   ]
  },
  {
   "cell_type": "code",
   "execution_count": 1,
   "id": "e02c327e",
   "metadata": {
    "id": "e02c327e"
   },
   "outputs": [],
   "source": [
    "import tensorflow as tf # model deep learning\n",
    "import numpy as np # aljabar linear\n",
    "import matplotlib.pyplot as plt # Data Visualization\n",
    "\n",
    "mnist = tf.keras.datasets.mnist # Import Dataset from keras\n",
    "(x_train, y_train),(x_test, y_test) = mnist.load_data() # membagi data ke data latih dan data uji"
   ]
  },
  {
   "cell_type": "code",
   "execution_count": 2,
   "id": "2c14f007",
   "metadata": {
    "id": "2c14f007",
    "outputId": "5f541078-45a1-4813-a037-85f0d7055a4d"
   },
   "outputs": [
    {
     "data": {
      "text/plain": [
       "(60000, 28, 28)"
      ]
     },
     "execution_count": 2,
     "metadata": {},
     "output_type": "execute_result"
    }
   ],
   "source": [
    "x_train.shape #60000 -> jumlah data, 28x28 -> dimensi array"
   ]
  },
  {
   "cell_type": "code",
   "execution_count": 3,
   "id": "0ab0c09d",
   "metadata": {
    "id": "0ab0c09d",
    "outputId": "94b961a4-234f-4fca-beee-58e35542eb30"
   },
   "outputs": [
    {
     "data": {
      "text/plain": [
       "(60000,)"
      ]
     },
     "execution_count": 3,
     "metadata": {},
     "output_type": "execute_result"
    }
   ],
   "source": [
    "y_train.shape #60000 -> mempunyai 60000 data"
   ]
  },
  {
   "cell_type": "code",
   "execution_count": 4,
   "id": "d2e02103",
   "metadata": {
    "id": "d2e02103",
    "outputId": "c312a5fe-cd77-4d65-a180-639ac40452d3"
   },
   "outputs": [
    {
     "data": {
      "image/png": "[encoded data removed]",
      "text/plain": [
       "<Figure size 432x288 with 1 Axes>"
      ]
     },
     "metadata": {
      "needs_background": "light"
     },
     "output_type": "display_data"
    },
    {
     "name": "stdout",
     "output_type": "stream",
     "text": [
      "3\n"
     ]
    }
   ],
   "source": [
    "plt.imshow(x_train[12]) # ingin menampilkan gambar dalam data uji pada index 12\n",
    "plt.show() # menampilkan gambar\n",
    "\n",
    "print(y_train[12]) # print data train index-12"
   ]
  },
  {
   "cell_type": "code",
   "execution_count": 5,
   "id": "50e628ee",
   "metadata": {},
   "outputs": [],
   "source": [
    "import os\n",
    "import cv2\n",
    "from PIL import Image\n",
    "from PIL import ImageChops"
   ]
  },
  {
   "cell_type": "code",
   "execution_count": 6,
   "id": "f001ebc5",
   "metadata": {},
   "outputs": [],
   "source": [
    "IMG_SIZE = 28"
   ]
  },
  {
   "cell_type": "code",
   "execution_count": 7,
   "id": "49b8656e",
   "metadata": {},
   "outputs": [],
   "source": [
    "numbers = os.listdir(\"dataset_test\")"
   ]
  },
  {
   "cell_type": "code",
   "execution_count": 8,
   "id": "3201064f",
   "metadata": {},
   "outputs": [
    {
     "data": {
      "image/png": "[encoded data removed]",
      "text/plain": [
       "<Figure size 432x288 with 1 Axes>"
      ]
     },
     "metadata": {
      "needs_background": "light"
     },
     "output_type": "display_data"
    }
   ],
   "source": [
    "DATADIR = \"C:/Users/ACER/Documents/MNIST/dataset_test_dilate\"\n",
    "CATEGORIES = [\"0\", \"1\", \"2\", \"3\", \"4\", \"5\", \"6\", \"7\", \"8\", \"9\"]\n",
    "\n",
    "for category in CATEGORIES:\n",
    "    path = os.path.join(DATADIR, category)\n",
    "    for img in os.listdir(path):\n",
    "        img_array = cv2.imread(os.path.join(path,img), cv2.IMREAD_GRAYSCALE)\n",
    "        plt.imshow(img_array, cmap=\"gray\")\n",
    "        plt.show()\n",
    "        break\n",
    "    break"
   ]
  },
  {
   "cell_type": "code",
   "execution_count": 9,
   "id": "b2f3b1b9",
   "metadata": {},
   "outputs": [
    {
     "data": {
      "image/png": "[encoded data removed]",
      "text/plain": [
       "<Figure size 432x288 with 1 Axes>"
      ]
     },
     "metadata": {
      "needs_background": "light"
     },
     "output_type": "display_data"
    }
   ],
   "source": [
    "new_array = cv2.resize(img_array, (IMG_SIZE, IMG_SIZE))\n",
    "plt.imshow(new_array, cmap= 'gray')\n",
    "plt.show()"
   ]
  },
  {
   "cell_type": "code",
   "execution_count": 10,
   "id": "64ffef0d",
   "metadata": {},
   "outputs": [],
   "source": [
    "# Grayscale\n",
    "\n",
    "testing_data_test = [] # membuat data test untuk melakukan feature extraction\n",
    "\n",
    "def create_testing_data():\n",
    "    for category in CATEGORIES:\n",
    "        path = os.path.join(DATADIR, category)\n",
    "        class_num = CATEGORIES.index(category)\n",
    "        for img in os.listdir(path):\n",
    "            try:\n",
    "                img_array = cv2.imread(os.path.join(path,img), cv2.IMREAD_GRAYSCALE)\n",
    "                new_array = cv2.resize(img_array, (IMG_SIZE, IMG_SIZE))\n",
    "                testing_data_test.append([new_array, class_num])\n",
    "            except Exception as e:\n",
    "                pass\n",
    "                                       \n",
    "create_testing_data() "
   ]
  },
  {
   "cell_type": "code",
   "execution_count": 11,
   "id": "ad77fd81",
   "metadata": {},
   "outputs": [
    {
     "name": "stdout",
     "output_type": "stream",
     "text": [
      "100\n"
     ]
    }
   ],
   "source": [
    "print(len(testing_data_test))"
   ]
  },
  {
   "cell_type": "code",
   "execution_count": 12,
   "id": "258dc104",
   "metadata": {},
   "outputs": [],
   "source": [
    "X_test_fix = []\n",
    "Y_test_fix = []"
   ]
  },
  {
   "cell_type": "code",
   "execution_count": 13,
   "id": "b77d5bcf",
   "metadata": {},
   "outputs": [],
   "source": [
    "for features, label in testing_data_test: #melakukan feature extraction untuk data test\n",
    "    X_test_fix.append(features)\n",
    "    Y_test_fix.append(label)"
   ]
  },
  {
   "cell_type": "code",
   "execution_count": 14,
   "id": "e713a9cf",
   "metadata": {},
   "outputs": [],
   "source": [
    "X_test_fix = np.array(X_test_fix)\n",
    "Y_test_fix = np.array(Y_test_fix)"
   ]
  },
  {
   "cell_type": "code",
   "execution_count": 15,
   "id": "9c72a3d6",
   "metadata": {},
   "outputs": [],
   "source": [
    "# Binary\n",
    "\n",
    "testing_binary_data_test = [] # membuat data test untuk melakukan feature extraction\n",
    "\n",
    "def create_testing_data():\n",
    "    for category in CATEGORIES:\n",
    "        path = os.path.join(DATADIR, category)\n",
    "        class_num = CATEGORIES.index(category)\n",
    "        for img in os.listdir(path):\n",
    "            try:\n",
    "                img_array = cv2.imread(os.path.join(path,img), cv2.IMREAD_GRAYSCALE)\n",
    "                new_array = cv2.resize(img_array, (IMG_SIZE, IMG_SIZE))\n",
    "                testing_binary_data_test.append([new_array, class_num])\n",
    "            except Exception as e:\n",
    "                pass\n",
    "                                       \n",
    "create_testing_data() "
   ]
  },
  {
   "cell_type": "code",
   "execution_count": 16,
   "id": "89284b33",
   "metadata": {},
   "outputs": [
    {
     "name": "stdout",
     "output_type": "stream",
     "text": [
      "100\n"
     ]
    }
   ],
   "source": [
    "print(len(testing_binary_data_test))"
   ]
  },
  {
   "cell_type": "code",
   "execution_count": 17,
   "id": "2b35ae5b",
   "metadata": {},
   "outputs": [],
   "source": [
    "X_test_binary_fix = []\n",
    "Y_test_binary_fix = []"
   ]
  },
  {
   "cell_type": "code",
   "execution_count": 18,
   "id": "ef6f42b5",
   "metadata": {},
   "outputs": [],
   "source": [
    "for features, label in testing_data_test: #melakukan feature extraction untuk data test\n",
    "    X_test_binary_fix.append(features)\n",
    "    Y_test_binary_fix.append(label)"
   ]
  },
  {
   "cell_type": "code",
   "execution_count": 19,
   "id": "9d394c6e",
   "metadata": {},
   "outputs": [],
   "source": [
    "X_test_binary_fix = np.array(X_test_binary_fix)\n",
    "Y_test_binary_fix = np.array(Y_test_binary_fix)"
   ]
  },
  {
   "cell_type": "code",
   "execution_count": 20,
   "id": "04e01f16",
   "metadata": {},
   "outputs": [
    {
     "data": {
      "image/png": "[encoded data removed]",
      "text/plain": [
       "<Figure size 432x288 with 1 Axes>"
      ]
     },
     "metadata": {
      "needs_background": "light"
     },
     "output_type": "display_data"
    }
   ],
   "source": [
    "DATADIR = \"C:/Users/ACER/Documents/MNIST/dataset_dilate_3\"\n",
    "CATEGORIES = [\"0\", \"1\", \"2\", \"3\", \"4\", \"5\", \"6\", \"7\", \"8\", \"9\"]\n",
    "\n",
    "for category in CATEGORIES:\n",
    "    path = os.path.join(DATADIR, category)\n",
    "    for img in os.listdir(path):\n",
    "        img_array = cv2.imread(os.path.join(path,img), cv2.IMREAD_GRAYSCALE)\n",
    "        plt.imshow(img_array, cmap=\"gray\")\n",
    "        plt.show()\n",
    "        break\n",
    "    break"
   ]
  },
  {
   "cell_type": "code",
   "execution_count": 21,
   "id": "e6a5d220",
   "metadata": {},
   "outputs": [
    {
     "data": {
      "image/png": "[encoded data removed]",
      "text/plain": [
       "<Figure size 432x288 with 1 Axes>"
      ]
     },
     "metadata": {
      "needs_background": "light"
     },
     "output_type": "display_data"
    }
   ],
   "source": [
    "new_array = cv2.resize(img_array, (IMG_SIZE, IMG_SIZE))\n",
    "plt.imshow(new_array, cmap= 'gray')\n",
    "plt.show()"
   ]
  },
  {
   "cell_type": "code",
   "execution_count": 22,
   "id": "0396e695",
   "metadata": {},
   "outputs": [],
   "source": [
    "testing_data_3 = [] # membuat data test untuk melakukan feature extraction\n",
    "\n",
    "def create_testing_data():\n",
    "    for category in CATEGORIES:\n",
    "        path = os.path.join(DATADIR, category)\n",
    "        class_num = CATEGORIES.index(category)\n",
    "        for img in os.listdir(path):\n",
    "            try:\n",
    "                img_array = cv2.imread(os.path.join(path,img), cv2.IMREAD_GRAYSCALE)\n",
    "                new_array = cv2.resize(img_array, (IMG_SIZE, IMG_SIZE))\n",
    "                testing_data_3.append([new_array, class_num])\n",
    "            except Exception as e:\n",
    "                pass\n",
    "                                       \n",
    "create_testing_data() "
   ]
  },
  {
   "cell_type": "code",
   "execution_count": 23,
   "id": "1dfbad06",
   "metadata": {},
   "outputs": [
    {
     "name": "stdout",
     "output_type": "stream",
     "text": [
      "500\n"
     ]
    }
   ],
   "source": [
    "print(len(testing_data_3))"
   ]
  },
  {
   "cell_type": "code",
   "execution_count": 24,
   "id": "b787dc31",
   "metadata": {},
   "outputs": [
    {
     "data": {
      "image/png": "[encoded data removed]",
      "text/plain": [
       "<Figure size 432x288 with 1 Axes>"
      ]
     },
     "metadata": {
      "needs_background": "light"
     },
     "output_type": "display_data"
    }
   ],
   "source": [
    "DATADIR = \"C:/Users/ACER/Documents/MNIST/dataset_dilate_4\"\n",
    "CATEGORIES = [\"0\", \"1\", \"2\", \"3\", \"4\", \"5\", \"6\", \"7\", \"8\", \"9\"]\n",
    "\n",
    "for category in CATEGORIES:\n",
    "    path = os.path.join(DATADIR, category)\n",
    "    for img in os.listdir(path):\n",
    "        img_array = cv2.imread(os.path.join(path,img), cv2.IMREAD_GRAYSCALE)\n",
    "        plt.imshow(img_array, cmap=\"gray\")\n",
    "        plt.show()\n",
    "        break\n",
    "    break"
   ]
  },
  {
   "cell_type": "code",
   "execution_count": 25,
   "id": "ce49fe50",
   "metadata": {},
   "outputs": [
    {
     "data": {
      "image/png": "[encoded data removed]",
      "text/plain": [
       "<Figure size 432x288 with 1 Axes>"
      ]
     },
     "metadata": {
      "needs_background": "light"
     },
     "output_type": "display_data"
    }
   ],
   "source": [
    "new_array = cv2.resize(img_array, (IMG_SIZE, IMG_SIZE))\n",
    "plt.imshow(new_array, cmap= 'gray')\n",
    "plt.show()"
   ]
  },
  {
   "cell_type": "code",
   "execution_count": 26,
   "id": "c1b3880b",
   "metadata": {},
   "outputs": [],
   "source": [
    "testing_data_4 = [] # membuat data test untuk melakukan feature extraction\n",
    "\n",
    "def create_testing_data():\n",
    "    for category in CATEGORIES:\n",
    "        path = os.path.join(DATADIR, category)\n",
    "        class_num = CATEGORIES.index(category)\n",
    "        for img in os.listdir(path):\n",
    "            try:\n",
    "                img_array = cv2.imread(os.path.join(path,img), cv2.IMREAD_GRAYSCALE)\n",
    "                new_array = cv2.resize(img_array, (IMG_SIZE, IMG_SIZE))\n",
    "                testing_data_4.append([new_array, class_num])\n",
    "            except Exception as e:\n",
    "                pass\n",
    "                                       \n",
    "create_testing_data() "
   ]
  },
  {
   "cell_type": "code",
   "execution_count": 27,
   "id": "2e84f214",
   "metadata": {},
   "outputs": [
    {
     "name": "stdout",
     "output_type": "stream",
     "text": [
      "500\n"
     ]
    }
   ],
   "source": [
    "print(len(testing_data_4))"
   ]
  },
  {
   "cell_type": "code",
   "execution_count": 28,
   "id": "f3f5f553",
   "metadata": {},
   "outputs": [],
   "source": [
    "numbers = os.listdir(\"dataset_dilate\")"
   ]
  },
  {
   "cell_type": "code",
   "execution_count": 29,
   "id": "171ad289",
   "metadata": {},
   "outputs": [
    {
     "data": {
      "image/png": "[encoded data removed]",
      "text/plain": [
       "<Figure size 432x288 with 1 Axes>"
      ]
     },
     "metadata": {
      "needs_background": "light"
     },
     "output_type": "display_data"
    }
   ],
   "source": [
    "DATADIR = \"C:/Users/ACER/Documents/MNIST/dataset_dilate\"\n",
    "CATEGORIES = [\"0\", \"1\", \"2\", \"3\", \"4\", \"5\", \"6\", \"7\", \"8\", \"9\"]\n",
    "\n",
    "for category in CATEGORIES:\n",
    "    path = os.path.join(DATADIR, category)\n",
    "    for img in os.listdir(path):\n",
    "        img_array = cv2.imread(os.path.join(path,img), cv2.IMREAD_GRAYSCALE)\n",
    "        plt.imshow(img_array, cmap=\"gray\")\n",
    "        plt.show()\n",
    "        break\n",
    "    break"
   ]
  },
  {
   "cell_type": "code",
   "execution_count": null,
   "id": "c601f0e0",
   "metadata": {},
   "outputs": [],
   "source": []
  },
  {
   "cell_type": "code",
   "execution_count": 30,
   "id": "c7d05bf2",
   "metadata": {},
   "outputs": [
    {
     "name": "stdout",
     "output_type": "stream",
     "text": [
      "[[  2   0   1   0   0   0   3   0   0   0   0   0   1   0   1   0   1   0\n",
      "    0   2   0   0   2   0   2   3   9  13]\n",
      " [  0   4   0   3   1   0   1   0   1   2   0   0   0   0   0   2   0   0\n",
      "    1   2   0   0   0   1   2   4  10  14]\n",
      " [  2   0   0   0   0   2   1   1   2   0   0   2   0   4   0   0   0   2\n",
      "    1   0   0   2   3   0   2   4  11  16]\n",
      " [  1   0   1   0   2   0   0   0   0   3   0   2   1   0   3   0   3   0\n",
      "    0   0   0   0   0   0   2   5  12  17]\n",
      " [  0   0   1   1   0   2   1   1   0   1   2 226 254 255 255 251 254 255\n",
      "    2   1   1   1   0   1   1   4  12  17]\n",
      " [  1   1   0   0   5   0   0   1   0 124 255 253 255 254 254 255 253 255\n",
      "  255 248   3   0   0   3   1   4  12  17]\n",
      " [  1   2   0   1   0   0   0   1 255 253 254 255 253   8   0   0   5 253\n",
      "  255 255  22   2   0   0   1   4  12  17]\n",
      " [  0   0   1   0   0   1   1 250 255 251 255   0   0   0   1   2   1   0\n",
      "  253 254 255   0   2   0   1   5  12  17]\n",
      " [  0   3   0   0   1   0   2 255 255 255   2   0   0   3   0   0   0   0\n",
      "    0 255 253  47   0   0   1   4  12  17]\n",
      " [  1   0   1   3   0   2 254 254 255   0   0   0   0   0   1   3   1   0\n",
      "    0 251 254 252   2   0   1   4  12  17]\n",
      " [  0   0   0   0   0   0 255 255   0   3   1   0   6   0   0   3   0   2\n",
      "    1   0 255 255   0   0   1   4  12  17]\n",
      " [  0   1   0   0   0 254 255 251   0   0   1   0   0   1   3   0   2   0\n",
      "    0   0 255 254   2   0   1   4  12  17]\n",
      " [  0   1   0   4   0 255 254   7   1   0   0   0   3   0   0   0   0   0\n",
      "    4   1 255 255   1   0   1   4  12  17]\n",
      " [  0   2   3   0   1 255 253   0   0   0   1   1   0   0   1   2   2   0\n",
      "    0   0 253 253   0   0   1   4  12  17]\n",
      " [  0   1   0   2   0 253 255   3   0   0   0   0   0   1   0   0   0   7\n",
      "    0   1 255 254   2   0   1   4  12  17]\n",
      " [  0   1   0   0   1 255 253   0   0   0   1   0   1   0   0   0   1   0\n",
      "    2   0 255 253   0   0   1   4  12  17]\n",
      " [  0   1   0   1   0 255 255   1   0   1   0   3   0   2   2   0   0   0\n",
      "    0 255 255 255   0   1   1   4  12  17]\n",
      " [  1   0   0   2   1 251 255   0   0   4   0   1   3   0   0   0   0   3\n",
      "    0 253 255   0   1   0   1   4  12  17]\n",
      " [  1   3   0   0   0 255 255 255   1   0   3   3   0   1   1   1   0   0\n",
      "  255 255 255   0   0   2   1   4  12  17]\n",
      " [  0   0   4   3   0   1 255 254 236   0   0   0   2   0   1   0   0   1\n",
      "  255 253  32   0   1   0   1   4  12  17]\n",
      " [  0   0   0   0   2   3 254 255 255  17   3   0   0   0   2   0   1 255\n",
      "  253 255   1   0   0   4   1   4  12  17]\n",
      " [  1   3   0   0   0   0   0 255 253 254 229   1   0   0   1   0 255 250\n",
      "  255   8   2   2   1   0   1   4  12  17]\n",
      " [  0   1   0   1   0   1   3   0 255 254 255 255 255   2 254 255 254 255\n",
      "    7   1   0   0   0   3   1   4  12  17]\n",
      " [  1   0   0   1   2   0   0   0   0 255 255 252 255 255 253 255 255   4\n",
      "    0   0   2   0   1   0   1   4  12  17]\n",
      " [  0   0   0   0   0   0   0   0   3   0   1   4 246 249 251   2   0   0\n",
      "    0   0   0   0   0   0   1   4  12  17]\n",
      " [  0   0   0   0   0   0   0   0   0   0   0   4   0   1   0   3   0   0\n",
      "    0   0   0   0   0   0   1   4  12  17]\n",
      " [  0   0   0   0   0   0   0   0   0   1   2   0   0   1   2   0   0   0\n",
      "    0   0   0   0   0   0   1   4  12  17]\n",
      " [  0   0   0   0   0   0   0   0   1   0   0   0   2   0   1   0   0   0\n",
      "    0   0   0   0   0   0   1   4  12  17]]\n"
     ]
    }
   ],
   "source": [
    "print(img_array)"
   ]
  },
  {
   "cell_type": "code",
   "execution_count": 31,
   "id": "5fe61477",
   "metadata": {},
   "outputs": [
    {
     "data": {
      "image/png": "[encoded data removed]",
      "text/plain": [
       "<Figure size 432x288 with 1 Axes>"
      ]
     },
     "metadata": {
      "needs_background": "light"
     },
     "output_type": "display_data"
    }
   ],
   "source": [
    "new_array = cv2.resize(img_array, (IMG_SIZE, IMG_SIZE))\n",
    "plt.imshow(new_array, cmap= 'gray')\n",
    "plt.show()"
   ]
  },
  {
   "cell_type": "code",
   "execution_count": 32,
   "id": "e159f364",
   "metadata": {},
   "outputs": [],
   "source": [
    "testing_data = [] # membuat data test untuk melakukan feature extraction\n",
    "\n",
    "def create_testing_data():\n",
    "    for category in CATEGORIES:\n",
    "        path = os.path.join(DATADIR, category)\n",
    "        class_num = CATEGORIES.index(category)\n",
    "        for img in os.listdir(path):\n",
    "            try:\n",
    "                img_array = cv2.imread(os.path.join(path,img), cv2.IMREAD_GRAYSCALE)\n",
    "                new_array = cv2.resize(img_array, (IMG_SIZE, IMG_SIZE))\n",
    "                testing_data.append([new_array, class_num])\n",
    "            except Exception as e:\n",
    "                pass\n",
    "                                       \n",
    "create_testing_data()     "
   ]
  },
  {
   "cell_type": "code",
   "execution_count": 33,
   "id": "08379fed",
   "metadata": {},
   "outputs": [
    {
     "name": "stdout",
     "output_type": "stream",
     "text": [
      "500\n"
     ]
    }
   ],
   "source": [
    "print(len(testing_data))"
   ]
  },
  {
   "cell_type": "code",
   "execution_count": 34,
   "id": "0283ed27",
   "metadata": {},
   "outputs": [],
   "source": [
    "X_test_3 = []\n",
    "Y_test_3 = []"
   ]
  },
  {
   "cell_type": "code",
   "execution_count": 35,
   "id": "1f1dab80",
   "metadata": {},
   "outputs": [],
   "source": [
    "for features, label in testing_data_3: #melakukan feature extraction untuk data test\n",
    "    X_test_3.append(features)\n",
    "    Y_test_3.append(label)"
   ]
  },
  {
   "cell_type": "code",
   "execution_count": 36,
   "id": "e94bb121",
   "metadata": {},
   "outputs": [],
   "source": [
    "X_test_4 = []\n",
    "Y_test_4 = []"
   ]
  },
  {
   "cell_type": "code",
   "execution_count": 37,
   "id": "f234f6ae",
   "metadata": {},
   "outputs": [],
   "source": [
    "for features, label in testing_data_4: #melakukan feature extraction untuk data test\n",
    "    X_test_4.append(features)\n",
    "    Y_test_4.append(label)"
   ]
  },
  {
   "cell_type": "code",
   "execution_count": 38,
   "id": "68dbe66c",
   "metadata": {},
   "outputs": [],
   "source": [
    "X_test = []\n",
    "Y_test = []"
   ]
  },
  {
   "cell_type": "code",
   "execution_count": 39,
   "id": "dd65d77d",
   "metadata": {},
   "outputs": [],
   "source": [
    "for features, label in testing_data: #melakukan feature extraction untuk data test\n",
    "    X_test.append(features)\n",
    "    Y_test.append(label)"
   ]
  },
  {
   "cell_type": "code",
   "execution_count": 40,
   "id": "ffc1a24e",
   "metadata": {},
   "outputs": [
    {
     "name": "stdout",
     "output_type": "stream",
     "text": [
      "[[  0   0   1   0   1   3   0   1   0   1   0   0   0   1   1   0   0   0\n",
      "    0   0   0   2   0   1   0   0   0   0]\n",
      " [  0   3   0   0   1   0   3   0   1   0   0   0   6   0   0   0   0   1\n",
      "    2   0   2   0   0   2   0   0   0   0]\n",
      " [  0   0   0   1   0   0   1   1   0   2   1   0   0   0   0   2   0   0\n",
      "    0   1   0   0   2   0   0   0   0   0]\n",
      " [  1   4   0   0   1   0   3   0   0   6 254 255 253 255 255 253   9   0\n",
      "    2   1   1   0   3   0   0   0   0   0]\n",
      " [  1   0   0   0   3   0   0   1  12 254 255 255 255 255 255 254 252 255\n",
      "    0   0   2   2   0   0   0   0   0   0]\n",
      " [  0   1   3   0   0   0   0 255 255 251 255 250 254 255 252 255 255 253\n",
      "  255   7   0   1   0   1   0   0   0   0]\n",
      " [  1   0   3   0   1   3 255 252 255 252 255 255 255   0   3 255 254 255\n",
      "  253 255   2   0   1   0   0   0   0   0]\n",
      " [  2   0   0   3   0  46 255 255 254 255   0   0   1   1   0   0  56 253\n",
      "  255 253 239   2   0   1   0   0   0   0]\n",
      " [  1   0   2   0   0 255 255 255 255   1   0   0   2   0   0   1   0 254\n",
      "  255 255 255   0   0   4   0   0   0   0]\n",
      " [  0   0   0   0   3 255 252 255   1   1   0   0   0   1   3   0   0   0\n",
      "  253 255 255   4   0   0   0   0   0   0]\n",
      " [  2   0   2   0 255 255 255 215   0   0   0   4   0   0   2   0   2   0\n",
      "  208 253 255 254   4   0   0   0   0   0]\n",
      " [  0   5   0   0 255 255 255   0   1   1   2   0   1   0   0   0   0   0\n",
      "    1 255 255 254   2   0   0   0   0   0]\n",
      " [  1   0   1   1 255 253 255   3   0   0   0   2   0   0   0   2   3   0\n",
      "    1 254 253 255   0   2   0   0   0   0]\n",
      " [  4   0   0   0 252 255 255   0   2   1   1   0   0   1   0   2   0   3\n",
      "    1 255 255 255   0   0   0   0   0   0]\n",
      " [  0   3   1   3 254 255 174   0   0   2   0   0   3   0   5   0   2   1\n",
      "    0 189 255 254   0   2   0   0   0   0]\n",
      " [  1   0   0   0 254 255   7   1   0   3   0   0   0   1   0   1   0   1\n",
      "    0   5 254 255   0   0   0   0   0   0]\n",
      " [  1   2   0   1 255 255  47   2   0   0   0   0   0   1   0   2   0   2\n",
      "    0   0 255 253   0   0   0   0   0   0]\n",
      " [  0   2   1   2 253 255 255   0   0   0   4   0   0   1   1   0   1   2\n",
      "    0   0 255 253   0   1   0   0   0   0]\n",
      " [  6   0   0   1 254 255 255   0   0   1   0   0   0   3   0   1   1   0\n",
      "    4   1 255 255   2   0   0   0   0   0]\n",
      " [  0   2   0   0 255 255 255 253   0   2   0   0   2   0   0   2   1   3\n",
      "    0  47 254 254   3   0   0   0   0   0]\n",
      " [  2   0   0   0  95 253 255 255   7   0   0   4   0   0   0   1   0   0\n",
      "    0 252 255 255   0   1   0   0   0   0]\n",
      " [  0   0   2   0   0 255 254 255 254   0   2   0   0   2   1   0   0   0\n",
      "    3 255 253 255   2   0   0   0   0   0]\n",
      " [  0   4   0   2   1   7 254 255 255 255   0   0   1   0   3   1   0   0\n",
      "  255 250 255 254   0   0   0   0   0   0]\n",
      " [  0   0   0   0   2   0 255 254 255 252 255 254   0   2   0   0   1 255\n",
      "  253 255 254   9   0   0   0   0   0   0]\n",
      " [  1   0   0   1   0   0   0 240 255 255 252 255 255 252 255 255 255 254\n",
      "  254 255 255   1   0   1   0   0   0   0]\n",
      " [  0   0   0   1   0   2   1   0   2 255 255 255 255 254 255 255 250 255\n",
      "  255 254   0   1   1   1   0   0   0   0]\n",
      " [  1   0   0   0   4   0   0   1   2   0   1 255 254 255 255 255 255 255\n",
      "   10   0   0   0   0   1   0   0   0   0]\n",
      " [  0   0   3   1   0   3   1   1   2   0   4   0   0   0   2   2   0   4\n",
      "    0   1   0   4   0   0   1   1   1   1]]\n"
     ]
    }
   ],
   "source": [
    "print(X_test[1])"
   ]
  },
  {
   "cell_type": "code",
   "execution_count": 41,
   "id": "15f621b4",
   "metadata": {},
   "outputs": [],
   "source": [
    "# Punya kelompok 10\n",
    "X_test = np.array(X_test)\n",
    "Y_test = np.array(Y_test)"
   ]
  },
  {
   "cell_type": "code",
   "execution_count": 42,
   "id": "5a3d37d6",
   "metadata": {},
   "outputs": [],
   "source": [
    "X_train_combined_10 = np.concatenate((x_train, X_test))\n",
    "Y_train_combined_10 = np.concatenate((y_train, Y_test))\n",
    "\n",
    "X_train_combined_3 = np.concatenate((X_train_combined_10, X_test_3))\n",
    "Y_train_combined_3 = np.concatenate((Y_train_combined_10, Y_test_3))\n",
    "\n",
    "X_train_combined = np.concatenate((X_train_combined_3, X_test_4))\n",
    "Y_train_combined = np.concatenate((Y_train_combined_3, Y_test_4))"
   ]
  },
  {
   "cell_type": "code",
   "execution_count": 43,
   "id": "09e7caaf",
   "metadata": {},
   "outputs": [
    {
     "data": {
      "text/plain": [
       "(500, 28, 28)"
      ]
     },
     "execution_count": 43,
     "metadata": {},
     "output_type": "execute_result"
    }
   ],
   "source": [
    "X_test.shape"
   ]
  },
  {
   "cell_type": "code",
   "execution_count": 44,
   "id": "2061dc93",
   "metadata": {},
   "outputs": [
    {
     "data": {
      "text/plain": [
       "(61500, 28, 28)"
      ]
     },
     "execution_count": 44,
     "metadata": {},
     "output_type": "execute_result"
    }
   ],
   "source": [
    "X_train_combined.shape"
   ]
  },
  {
   "cell_type": "code",
   "execution_count": 45,
   "id": "2a1fce67",
   "metadata": {},
   "outputs": [
    {
     "name": "stdout",
     "output_type": "stream",
     "text": [
      "500\n"
     ]
    }
   ],
   "source": [
    "print(len(Y_test))"
   ]
  },
  {
   "cell_type": "code",
   "execution_count": 46,
   "id": "e8000371",
   "metadata": {},
   "outputs": [
    {
     "name": "stdout",
     "output_type": "stream",
     "text": [
      "61500\n"
     ]
    }
   ],
   "source": [
    "print(len(Y_train_combined))"
   ]
  },
  {
   "cell_type": "code",
   "execution_count": 47,
   "id": "436c793b",
   "metadata": {},
   "outputs": [
    {
     "name": "stdout",
     "output_type": "stream",
     "text": [
      "1\n"
     ]
    }
   ],
   "source": [
    "print(Y_train_combined[60099])"
   ]
  },
  {
   "cell_type": "code",
   "execution_count": 48,
   "id": "38d988e0",
   "metadata": {},
   "outputs": [],
   "source": [
    "# data full\n",
    "\n",
    "from sklearn.model_selection import train_test_split\n",
    "\n",
    "# X_train_full, X_test_full, Y_train_full, Y_test_full = train_test_split(X_train_combined, Y_train_combined, test_size=0.2, random_state=42, stratify = Y_train_combined)"
   ]
  },
  {
   "cell_type": "code",
   "execution_count": 49,
   "id": "f32c2f4a",
   "metadata": {},
   "outputs": [
    {
     "name": "stdout",
     "output_type": "stream",
     "text": [
      "[[  0   0   0   0   0   0   0   0   0   0   0   0   0   0   0   0   0   0\n",
      "    0   0   0   0   0   0   0   0   0   0]\n",
      " [  0   0   0   0   0   0   0   0   0   0   0   0   0   0   0   0   0   0\n",
      "    0   0   0   0   0   0   0   0   0   0]\n",
      " [  0   0   0   0   0   0   0   0   0   0   0   0   0   0   0   0   0   0\n",
      "    0   0   0   0   0   0   0   0   0   0]\n",
      " [  0   0   0   0   0   0   0   0   0   0   0   0   0   0   0   0   0   0\n",
      "    0   0   0   0   0   0   0   0   0   0]\n",
      " [  0   0   0   0   0   0   0   0   0   0   0   0   0   0   0  51 159 253\n",
      "  159  50   0   0   0   0   0   0   0   0]\n",
      " [  0   0   0   0   0   0   0   0   0   0   0   0   0   0  48 238 252 252\n",
      "  252 237   0   0   0   0   0   0   0   0]\n",
      " [  0   0   0   0   0   0   0   0   0   0   0   0   0  54 227 253 252 239\n",
      "  233 252  57   6   0   0   0   0   0   0]\n",
      " [  0   0   0   0   0   0   0   0   0   0   0  10  60 224 252 253 252 202\n",
      "   84 252 253 122   0   0   0   0   0   0]\n",
      " [  0   0   0   0   0   0   0   0   0   0   0 163 252 252 252 253 252 252\n",
      "   96 189 253 167   0   0   0   0   0   0]\n",
      " [  0   0   0   0   0   0   0   0   0   0  51 238 253 253 190 114 253 228\n",
      "   47  79 255 168   0   0   0   0   0   0]\n",
      " [  0   0   0   0   0   0   0   0   0  48 238 252 252 179  12  75 121  21\n",
      "    0   0 253 243  50   0   0   0   0   0]\n",
      " [  0   0   0   0   0   0   0   0  38 165 253 233 208  84   0   0   0   0\n",
      "    0   0 253 252 165   0   0   0   0   0]\n",
      " [  0   0   0   0   0   0   0   7 178 252 240  71  19  28   0   0   0   0\n",
      "    0   0 253 252 195   0   0   0   0   0]\n",
      " [  0   0   0   0   0   0   0  57 252 252  63   0   0   0   0   0   0   0\n",
      "    0   0 253 252 195   0   0   0   0   0]\n",
      " [  0   0   0   0   0   0   0 198 253 190   0   0   0   0   0   0   0   0\n",
      "    0   0 255 253 196   0   0   0   0   0]\n",
      " [  0   0   0   0   0   0  76 246 252 112   0   0   0   0   0   0   0   0\n",
      "    0   0 253 252 148   0   0   0   0   0]\n",
      " [  0   0   0   0   0   0  85 252 230  25   0   0   0   0   0   0   0   0\n",
      "    7 135 253 186  12   0   0   0   0   0]\n",
      " [  0   0   0   0   0   0  85 252 223   0   0   0   0   0   0   0   0   7\n",
      "  131 252 225  71   0   0   0   0   0   0]\n",
      " [  0   0   0   0   0   0  85 252 145   0   0   0   0   0   0   0  48 165\n",
      "  252 173   0   0   0   0   0   0   0   0]\n",
      " [  0   0   0   0   0   0  86 253 225   0   0   0   0   0   0 114 238 253\n",
      "  162   0   0   0   0   0   0   0   0   0]\n",
      " [  0   0   0   0   0   0  85 252 249 146  48  29  85 178 225 253 223 167\n",
      "   56   0   0   0   0   0   0   0   0   0]\n",
      " [  0   0   0   0   0   0  85 252 252 252 229 215 252 252 252 196 130   0\n",
      "    0   0   0   0   0   0   0   0   0   0]\n",
      " [  0   0   0   0   0   0  28 199 252 252 253 252 252 233 145   0   0   0\n",
      "    0   0   0   0   0   0   0   0   0   0]\n",
      " [  0   0   0   0   0   0   0  25 128 252 253 252 141  37   0   0   0   0\n",
      "    0   0   0   0   0   0   0   0   0   0]\n",
      " [  0   0   0   0   0   0   0   0   0   0   0   0   0   0   0   0   0   0\n",
      "    0   0   0   0   0   0   0   0   0   0]\n",
      " [  0   0   0   0   0   0   0   0   0   0   0   0   0   0   0   0   0   0\n",
      "    0   0   0   0   0   0   0   0   0   0]\n",
      " [  0   0   0   0   0   0   0   0   0   0   0   0   0   0   0   0   0   0\n",
      "    0   0   0   0   0   0   0   0   0   0]\n",
      " [  0   0   0   0   0   0   0   0   0   0   0   0   0   0   0   0   0   0\n",
      "    0   0   0   0   0   0   0   0   0   0]]\n"
     ]
    }
   ],
   "source": [
    "print(X_train_combined[1])"
   ]
  },
  {
   "cell_type": "code",
   "execution_count": 50,
   "id": "becb9488",
   "metadata": {},
   "outputs": [],
   "source": [
    "X_train_combined_binary = []\n",
    "\n",
    "for data in X_train_combined:\n",
    "    try:\n",
    "        (thresh, im_bw) = cv2.threshold(data, 127, 255, cv2.THRESH_BINARY | cv2.THRESH_OTSU)\n",
    "        new_array = cv2.resize(im_bw, (IMG_SIZE, IMG_SIZE))\n",
    "        X_train_combined_binary.append(new_array)\n",
    "    except Exception as e:\n",
    "        pass\n"
   ]
  },
  {
   "cell_type": "code",
   "execution_count": 51,
   "id": "d3082cd1",
   "metadata": {},
   "outputs": [
    {
     "name": "stdout",
     "output_type": "stream",
     "text": [
      "61500\n"
     ]
    }
   ],
   "source": [
    "print(len(X_train_combined_binary))"
   ]
  },
  {
   "cell_type": "code",
   "execution_count": 52,
   "id": "d93a4537",
   "metadata": {},
   "outputs": [
    {
     "data": {
      "text/plain": [
       "<matplotlib.image.AxesImage at 0x1f288e89190>"
      ]
     },
     "execution_count": 52,
     "metadata": {},
     "output_type": "execute_result"
    },
    {
     "data": {
      "image/png": "[encoded data removed]",
      "text/plain": [
       "<Figure size 432x288 with 1 Axes>"
      ]
     },
     "metadata": {
      "needs_background": "light"
     },
     "output_type": "display_data"
    }
   ],
   "source": [
    "plt.imshow(X_train_combined_binary[1], cmap = \"gray\")"
   ]
  },
  {
   "cell_type": "code",
   "execution_count": 53,
   "id": "69b55825",
   "metadata": {},
   "outputs": [
    {
     "name": "stdout",
     "output_type": "stream",
     "text": [
      "61500\n"
     ]
    }
   ],
   "source": [
    "print(len(X_train_combined_binary))"
   ]
  },
  {
   "cell_type": "markdown",
   "id": "D6Ix-WzO-akW",
   "metadata": {
    "id": "D6Ix-WzO-akW"
   },
   "source": [
    "# Normalisasi"
   ]
  },
  {
   "cell_type": "code",
   "execution_count": 54,
   "id": "57110edb",
   "metadata": {
    "id": "57110edb"
   },
   "outputs": [],
   "source": [
    "# normalisasi -> mengubah intensitas pixel \n",
    "X_train_normalized = tf.keras.utils.normalize(X_train_combined, axis=1) # mengubah pixel menjadi bentuk desimal agar model lebih mudah untuk mengenali data uji dan data latih\n",
    "X_test_normalized = tf.keras.utils.normalize(X_test_fix, axis=1) # mengubah pixel menjadi bentuk desimal agar model lebih mudah untuk mengenali data uji dan data latih\n",
    "#range pixel lebih rata"
   ]
  },
  {
   "cell_type": "code",
   "execution_count": 55,
   "id": "ed25361e",
   "metadata": {
    "id": "ed25361e",
    "outputId": "f19e8043-eb6f-48d6-a177-a77259bae30d"
   },
   "outputs": [
    {
     "name": "stdout",
     "output_type": "stream",
     "text": [
      "[[  0   0   0   0   0   0   0   0   0   0   0   0   0   0   0   0   0   0\n",
      "    0   0   0   0   0   0   0   0   0   0]\n",
      " [  0   0   0   0   0   0   0   0   0   0   0   0   0   0   0   0   0   0\n",
      "    0   0   0   0   0   0   0   0   0   0]\n",
      " [  0   0   0   0   0   0   0   0   0   0   0   0   0   0   0   0   0   0\n",
      "    0   0   0   0   0   0   0   0   0   0]\n",
      " [  0   0   0   0   0   0   0   0   0   0   0   0   0   0   0   0   0   0\n",
      "    0   0   0   0   0   0   0   0   0   0]\n",
      " [  0   0   0   0   0   0   0   0   0   0   0   0   0   0   0   0   0   0\n",
      "    0   0   0   0   0   0   0   0   0   0]\n",
      " [  0   0   0   0   0   0   0   0   0   0   0   0   3  18  18  18 126 136\n",
      "  175  26 166 255 247 127   0   0   0   0]\n",
      " [  0   0   0   0   0   0   0   0  30  36  94 154 170 253 253 253 253 253\n",
      "  225 172 253 242 195  64   0   0   0   0]\n",
      " [  0   0   0   0   0   0   0  49 238 253 253 253 253 253 253 253 253 251\n",
      "   93  82  82  56  39   0   0   0   0   0]\n",
      " [  0   0   0   0   0   0   0  18 219 253 253 253 253 253 198 182 247 241\n",
      "    0   0   0   0   0   0   0   0   0   0]\n",
      " [  0   0   0   0   0   0   0   0  80 156 107 253 253 205  11   0  43 154\n",
      "    0   0   0   0   0   0   0   0   0   0]\n",
      " [  0   0   0   0   0   0   0   0   0  14   1 154 253  90   0   0   0   0\n",
      "    0   0   0   0   0   0   0   0   0   0]\n",
      " [  0   0   0   0   0   0   0   0   0   0   0 139 253 190   2   0   0   0\n",
      "    0   0   0   0   0   0   0   0   0   0]\n",
      " [  0   0   0   0   0   0   0   0   0   0   0  11 190 253  70   0   0   0\n",
      "    0   0   0   0   0   0   0   0   0   0]\n",
      " [  0   0   0   0   0   0   0   0   0   0   0   0  35 241 225 160 108   1\n",
      "    0   0   0   0   0   0   0   0   0   0]\n",
      " [  0   0   0   0   0   0   0   0   0   0   0   0   0  81 240 253 253 119\n",
      "   25   0   0   0   0   0   0   0   0   0]\n",
      " [  0   0   0   0   0   0   0   0   0   0   0   0   0   0  45 186 253 253\n",
      "  150  27   0   0   0   0   0   0   0   0]\n",
      " [  0   0   0   0   0   0   0   0   0   0   0   0   0   0   0  16  93 252\n",
      "  253 187   0   0   0   0   0   0   0   0]\n",
      " [  0   0   0   0   0   0   0   0   0   0   0   0   0   0   0   0   0 249\n",
      "  253 249  64   0   0   0   0   0   0   0]\n",
      " [  0   0   0   0   0   0   0   0   0   0   0   0   0   0  46 130 183 253\n",
      "  253 207   2   0   0   0   0   0   0   0]\n",
      " [  0   0   0   0   0   0   0   0   0   0   0   0  39 148 229 253 253 253\n",
      "  250 182   0   0   0   0   0   0   0   0]\n",
      " [  0   0   0   0   0   0   0   0   0   0  24 114 221 253 253 253 253 201\n",
      "   78   0   0   0   0   0   0   0   0   0]\n",
      " [  0   0   0   0   0   0   0   0  23  66 213 253 253 253 253 198  81   2\n",
      "    0   0   0   0   0   0   0   0   0   0]\n",
      " [  0   0   0   0   0   0  18 171 219 253 253 253 253 195  80   9   0   0\n",
      "    0   0   0   0   0   0   0   0   0   0]\n",
      " [  0   0   0   0  55 172 226 253 253 253 253 244 133  11   0   0   0   0\n",
      "    0   0   0   0   0   0   0   0   0   0]\n",
      " [  0   0   0   0 136 253 253 253 212 135 132  16   0   0   0   0   0   0\n",
      "    0   0   0   0   0   0   0   0   0   0]\n",
      " [  0   0   0   0   0   0   0   0   0   0   0   0   0   0   0   0   0   0\n",
      "    0   0   0   0   0   0   0   0   0   0]\n",
      " [  0   0   0   0   0   0   0   0   0   0   0   0   0   0   0   0   0   0\n",
      "    0   0   0   0   0   0   0   0   0   0]\n",
      " [  0   0   0   0   0   0   0   0   0   0   0   0   0   0   0   0   0   0\n",
      "    0   0   0   0   0   0   0   0   0   0]]\n"
     ]
    }
   ],
   "source": [
    "print(x_train[0]) #menampilkan data sesudah dinormalisasi"
   ]
  },
  {
   "cell_type": "code",
   "execution_count": 56,
   "id": "f0c3321d",
   "metadata": {},
   "outputs": [],
   "source": [
    "# FILTER DATA - \n",
    "\n",
    "# GRAYSCALE filter\n",
    "# X_train_filter, _, Y_train_filter, _ = train_test_split(X_train_normalized, Y_train_combined, train_size=31500, random_state=42, stratify=Y_train_combined)\n",
    "\n",
    "# BINARY filter\n",
    "X_train_binary_filter, _, Y_train_filter, _ = train_test_split(X_train_combined_binary, Y_train_combined, train_size=11500, random_state=42, stratify=Y_train_combined)"
   ]
  },
  {
   "cell_type": "code",
   "execution_count": 57,
   "id": "fa0c5e57",
   "metadata": {},
   "outputs": [
    {
     "name": "stdout",
     "output_type": "stream",
     "text": [
      "11500\n"
     ]
    }
   ],
   "source": [
    "print(len(Y_train_filter))"
   ]
  },
  {
   "cell_type": "code",
   "execution_count": 58,
   "id": "6176fcb6",
   "metadata": {
    "id": "6176fcb6",
    "outputId": "aa255a14-705e-41b3-e56b-898eb7755c73"
   },
   "outputs": [
    {
     "name": "stdout",
     "output_type": "stream",
     "text": [
      "Training Samples Dimention:  (61500, 28, 28, 1)\n",
      "Testing Samples Dimention:  (100, 28, 28, 1)\n"
     ]
    }
   ],
   "source": [
    "# me-reshape // mengubah image size agar bisa digunakan dalam operasi Convolution\n",
    "# untuk bisa kernel operation diperlukan 1 dimensi lagi\n",
    "# Reshape Grayscale\n",
    "\n",
    "IMG_SIZE=28 #ukuran gambar sebesar 28 pixel\n",
    "X_trainr_full = np.array(X_train_combined).reshape(-1, IMG_SIZE, IMG_SIZE, 1) # menambah 1 dimensi untuk kernel operation pada data latih\n",
    "X_testr_full = np.array(X_test_fix).reshape(-1, IMG_SIZE, IMG_SIZE, 1) # menambah 1 dimensi untuk kernel operation pada data uji\n",
    "print(\"Training Samples Dimention: \", X_trainr_full.shape) # menampilkan bentuk dari data X_train\n",
    "print(\"Testing Samples Dimention: \", X_testr_full.shape) # menampilkan bentuk dari data X_test"
   ]
  },
  {
   "cell_type": "code",
   "execution_count": 59,
   "id": "ea34394c",
   "metadata": {},
   "outputs": [
    {
     "name": "stdout",
     "output_type": "stream",
     "text": [
      "Training Samples Dimention:  (61500, 28, 28, 1)\n",
      "Testing Samples Dimention:  (100, 28, 28, 1)\n"
     ]
    }
   ],
   "source": [
    "# Reshape Binary\n",
    "\n",
    "IMG_SIZE=28 #ukuran gambar sebesar 28 pixel\n",
    "X_trainr_binary_full = np.array(X_train_combined_binary).reshape(-1, IMG_SIZE, IMG_SIZE, 1) # menambah 1 dimensi untuk kernel operation pada data latih\n",
    "X_testr_binary_full = np.array(X_test_binary_fix).reshape(-1, IMG_SIZE, IMG_SIZE, 1) # menambah 1 dimensi untuk kernel operation pada data uji\n",
    "print(\"Training Samples Dimention: \", X_trainr_full.shape) # menampilkan bentuk dari data X_train\n",
    "print(\"Testing Samples Dimention: \", X_testr_binary_full.shape) # menampilkan bentuk dari data X_test"
   ]
  },
  {
   "cell_type": "code",
   "execution_count": 60,
   "id": "72d48bc5",
   "metadata": {},
   "outputs": [],
   "source": [
    "# # Reshape Grayscale filter\n",
    "\n",
    "# IMG_SIZE=28 #ukuran gambar sebesar 28 pixel\n",
    "# X_trainr_filter = np.array(X_train_filter).reshape(-1, IMG_SIZE, IMG_SIZE, 1) # menambah 1 dimensi untuk kernel operation pada data latih\n",
    "# print(\"Training Samples Dimention: \", X_trainr_filter.shape) # menampilkan bentuk dari data X_train"
   ]
  },
  {
   "cell_type": "code",
   "execution_count": 61,
   "id": "2633e063",
   "metadata": {},
   "outputs": [
    {
     "name": "stdout",
     "output_type": "stream",
     "text": [
      "Training Samples Dimention:  (11500, 28, 28, 1)\n"
     ]
    }
   ],
   "source": [
    "# Reshape Binary filter\n",
    "\n",
    "IMG_SIZE=28 #ukuran gambar sebesar 28 pixel\n",
    "X_trainr_binary_filter = np.array(X_train_binary_filter).reshape(-1, IMG_SIZE, IMG_SIZE, 1) # menambah 1 dimensi untuk kernel operation pada data latih\n",
    "print(\"Training Samples Dimention: \", X_trainr_binary_filter.shape) # menampilkan bentuk dari data X_train"
   ]
  },
  {
   "cell_type": "markdown",
   "id": "T6wIIOl--oje",
   "metadata": {
    "id": "T6wIIOl--oje"
   },
   "source": [
    "# Membuat Model Deep Learning (CNN)"
   ]
  },
  {
   "cell_type": "code",
   "execution_count": 62,
   "id": "af4548fa",
   "metadata": {
    "id": "af4548fa"
   },
   "outputs": [],
   "source": [
    "from tensorflow.keras.models import Sequential # mengimport Sequential untuk menjadi wadah membuat layer\n",
    "from tensorflow.keras.layers import Dense, Dropout, Activation, Flatten, Conv2D, MaxPooling2D # mengimport layers yang diperlukan"
   ]
  },
  {
   "cell_type": "code",
   "execution_count": 63,
   "id": "791c3a2b",
   "metadata": {
    "id": "791c3a2b"
   },
   "outputs": [],
   "source": [
    "# Grayscale\n",
    "# full -> X_trainr_full\n",
    "# filter -> X_trainr_filter\n",
    "\n",
    "# Binary \n",
    "# full -> X_trainr_binary_full\n",
    "# filter -> X_trainr_binary_filter\n",
    "\n",
    "model = Sequential() # membuat model\n",
    "\n",
    "#First layer\n",
    "model.add(Conv2D(16, (3,3), input_shape = X_trainr_binary_filter.shape[1:])) # menggunakan konvolusi 2 dimensi sebagai layer\n",
    "model.add(Activation(\"relu\")) # menggunakan fungsi aktivasi relu, untuk aktivin neuron\n",
    "model.add(MaxPooling2D(pool_size=(2,2)))  # melakukan pooling dalam bentuk 2 dimensi\n",
    "\n",
    "#Second layer\n",
    "model.add(Conv2D(32, (3,3))) # menggunakan konvolusi sebagai layer\n",
    "model.add(Activation(\"relu\")) # menggunakan fungsi aktivasi relu\n",
    "model.add(MaxPooling2D(pool_size=(2,2))) # melakukan pooling dalam bentuk 2 dimensi\n",
    "\n",
    "#Third layer\n",
    "model.add(Conv2D(64, (3,3))) # menggunakan konvolusi sebagai layer\n",
    "model.add(Activation(\"relu\")) # menggunakan fungsi aktivasi relu\n",
    "model.add(MaxPooling2D(pool_size=(2,2)))  # melakukan pooling dalam bentuk 2 dimensi\n",
    "\n",
    "#Fully connected layer # 1\n",
    "model.add(Flatten()) # di-flatten dari 2D ke 1D\n",
    "model.add(Dense(128)) # Hanya lapisan NN yang terhubung secara padat.\n",
    "model.add(Activation(\"relu\"))\n",
    "\n",
    "#Fully connected layer # 2\n",
    "model.add(Dense(64)) # Hanya lapisan NN yang terhubung secara padat.\n",
    "model.add(Activation(\"relu\"))\n",
    "model.add(Dropout(0.4))\n",
    "\n",
    "#Fully connected layer # 3\n",
    "model.add(Dense(10)) \n",
    "model.add(Activation('softmax'))"
   ]
  },
  {
   "cell_type": "code",
   "execution_count": 64,
   "id": "c8ba8d01",
   "metadata": {
    "id": "c8ba8d01",
    "outputId": "04c58a8c-ccb1-4511-a924-4b4ac9164c67"
   },
   "outputs": [
    {
     "name": "stdout",
     "output_type": "stream",
     "text": [
      "Total training samples =  61500\n"
     ]
    }
   ],
   "source": [
    "print(\"Total training samples = \", len(X_trainr_full)) # menampilkan training sampel"
   ]
  },
  {
   "cell_type": "code",
   "execution_count": 65,
   "id": "3ed9311a",
   "metadata": {},
   "outputs": [
    {
     "name": "stdout",
     "output_type": "stream",
     "text": [
      "Total training samples =  11500\n"
     ]
    }
   ],
   "source": [
    "print(\"Total training samples = \", len(X_trainr_binary_filter)) # menampilkan training sampel"
   ]
  },
  {
   "cell_type": "markdown",
   "id": "XPFxQEx8CQPp",
   "metadata": {
    "id": "XPFxQEx8CQPp"
   },
   "source": [
    "# Melakukan Training atau fitting model"
   ]
  },
  {
   "cell_type": "code",
   "execution_count": 66,
   "id": "d9499c33",
   "metadata": {
    "id": "d9499c33"
   },
   "outputs": [],
   "source": [
    "model.compile(loss=\"sparse_categorical_crossentropy\", optimizer=\"SGD\", metrics=['accuracy'])"
   ]
  },
  {
   "cell_type": "code",
   "execution_count": 67,
   "id": "9a3b3e0d",
   "metadata": {},
   "outputs": [],
   "source": [
    "# use checkpoint to save best loss\n",
    "cp_callback = tf.keras.callbacks.ModelCheckpoint(filepath='checkpoint.h5',save_best_only=True, save_weights_only=True, verbose=1)"
   ]
  },
  {
   "cell_type": "code",
   "execution_count": 68,
   "id": "6806b175",
   "metadata": {
    "id": "6806b175",
    "outputId": "47ef4b25-01d5-4518-b02b-b1ebb7253f89"
   },
   "outputs": [
    {
     "name": "stdout",
     "output_type": "stream",
     "text": [
      "Epoch 1/100\n",
      "288/288 [==============================] - 5s 6ms/step - loss: 2.0143 - accuracy: 0.3701 - val_loss: 0.8550 - val_accuracy: 0.7230\n",
      "\n",
      "Epoch 00001: val_loss improved from inf to 0.85499, saving model to checkpoint.h5\n",
      "Epoch 2/100\n",
      "288/288 [==============================] - 1s 5ms/step - loss: 0.8918 - accuracy: 0.7147 - val_loss: 0.7671 - val_accuracy: 0.7600\n",
      "\n",
      "Epoch 00002: val_loss improved from 0.85499 to 0.76709, saving model to checkpoint.h5\n",
      "Epoch 3/100\n",
      "288/288 [==============================] - 1s 5ms/step - loss: 0.6476 - accuracy: 0.8028 - val_loss: 0.4240 - val_accuracy: 0.8783\n",
      "\n",
      "Epoch 00003: val_loss improved from 0.76709 to 0.42405, saving model to checkpoint.h5\n",
      "Epoch 4/100\n",
      "288/288 [==============================] - 1s 5ms/step - loss: 0.4998 - accuracy: 0.8498 - val_loss: 0.3150 - val_accuracy: 0.9017\n",
      "\n",
      "Epoch 00004: val_loss improved from 0.42405 to 0.31504, saving model to checkpoint.h5\n",
      "Epoch 5/100\n",
      "288/288 [==============================] - 2s 5ms/step - loss: 0.4045 - accuracy: 0.8822 - val_loss: 0.3061 - val_accuracy: 0.9191\n",
      "\n",
      "Epoch 00005: val_loss improved from 0.31504 to 0.30608, saving model to checkpoint.h5\n",
      "Epoch 6/100\n",
      "288/288 [==============================] - 2s 5ms/step - loss: 0.3482 - accuracy: 0.8990 - val_loss: 0.2421 - val_accuracy: 0.9230\n",
      "\n",
      "Epoch 00006: val_loss improved from 0.30608 to 0.24210, saving model to checkpoint.h5\n",
      "Epoch 7/100\n",
      "288/288 [==============================] - 2s 5ms/step - loss: 0.2956 - accuracy: 0.9117 - val_loss: 0.2391 - val_accuracy: 0.9296\n",
      "\n",
      "Epoch 00007: val_loss improved from 0.24210 to 0.23909, saving model to checkpoint.h5\n",
      "Epoch 8/100\n",
      "288/288 [==============================] - 2s 6ms/step - loss: 0.2647 - accuracy: 0.9217 - val_loss: 0.2719 - val_accuracy: 0.9191\n",
      "\n",
      "Epoch 00008: val_loss did not improve from 0.23909\n",
      "Epoch 9/100\n",
      "288/288 [==============================] - 2s 6ms/step - loss: 0.2261 - accuracy: 0.9368 - val_loss: 0.2773 - val_accuracy: 0.9248\n",
      "\n",
      "Epoch 00009: val_loss did not improve from 0.23909\n",
      "Epoch 10/100\n",
      "288/288 [==============================] - 2s 6ms/step - loss: 0.2130 - accuracy: 0.9347 - val_loss: 0.1830 - val_accuracy: 0.9509\n",
      "\n",
      "Epoch 00010: val_loss improved from 0.23909 to 0.18300, saving model to checkpoint.h5\n",
      "Epoch 11/100\n",
      "288/288 [==============================] - 2s 6ms/step - loss: 0.1804 - accuracy: 0.9483 - val_loss: 0.2287 - val_accuracy: 0.9352\n",
      "\n",
      "Epoch 00011: val_loss did not improve from 0.18300\n",
      "Epoch 12/100\n",
      "288/288 [==============================] - 2s 6ms/step - loss: 0.1629 - accuracy: 0.9509 - val_loss: 0.1846 - val_accuracy: 0.9557\n",
      "\n",
      "Epoch 00012: val_loss did not improve from 0.18300\n",
      "Epoch 13/100\n",
      "288/288 [==============================] - 2s 6ms/step - loss: 0.1561 - accuracy: 0.9538 - val_loss: 0.1928 - val_accuracy: 0.9504\n",
      "\n",
      "Epoch 00013: val_loss did not improve from 0.18300\n",
      "Epoch 14/100\n",
      "288/288 [==============================] - 2s 6ms/step - loss: 0.1280 - accuracy: 0.9615 - val_loss: 0.2025 - val_accuracy: 0.9539\n",
      "\n",
      "Epoch 00014: val_loss did not improve from 0.18300\n",
      "Epoch 15/100\n",
      "288/288 [==============================] - 2s 5ms/step - loss: 0.1208 - accuracy: 0.9640 - val_loss: 0.2054 - val_accuracy: 0.9530\n",
      "\n",
      "Epoch 00015: val_loss did not improve from 0.18300\n",
      "Epoch 16/100\n",
      "288/288 [==============================] - 2s 6ms/step - loss: 0.1065 - accuracy: 0.9674 - val_loss: 0.2169 - val_accuracy: 0.9526\n",
      "\n",
      "Epoch 00016: val_loss did not improve from 0.18300\n",
      "Epoch 17/100\n",
      "288/288 [==============================] - 2s 6ms/step - loss: 0.1009 - accuracy: 0.9705 - val_loss: 0.2199 - val_accuracy: 0.9535\n",
      "\n",
      "Epoch 00017: val_loss did not improve from 0.18300\n",
      "Epoch 18/100\n",
      "288/288 [==============================] - 2s 6ms/step - loss: 0.0933 - accuracy: 0.9708 - val_loss: 0.1950 - val_accuracy: 0.9574\n",
      "\n",
      "Epoch 00018: val_loss did not improve from 0.18300\n",
      "Epoch 19/100\n",
      "288/288 [==============================] - 2s 6ms/step - loss: 0.0875 - accuracy: 0.9726 - val_loss: 0.2008 - val_accuracy: 0.9570\n",
      "\n",
      "Epoch 00019: val_loss did not improve from 0.18300\n",
      "Epoch 20/100\n",
      "288/288 [==============================] - 2s 6ms/step - loss: 0.0818 - accuracy: 0.9762 - val_loss: 0.1977 - val_accuracy: 0.9578\n",
      "\n",
      "Epoch 00020: val_loss did not improve from 0.18300\n",
      "Epoch 21/100\n",
      "288/288 [==============================] - 2s 6ms/step - loss: 0.0731 - accuracy: 0.9773 - val_loss: 0.1884 - val_accuracy: 0.9626\n",
      "\n",
      "Epoch 00021: val_loss did not improve from 0.18300\n",
      "Epoch 22/100\n",
      "288/288 [==============================] - 2s 6ms/step - loss: 0.0730 - accuracy: 0.9773 - val_loss: 0.2110 - val_accuracy: 0.9543\n",
      "\n",
      "Epoch 00022: val_loss did not improve from 0.18300\n",
      "Epoch 23/100\n",
      "288/288 [==============================] - 2s 5ms/step - loss: 0.0587 - accuracy: 0.9833 - val_loss: 0.2358 - val_accuracy: 0.9543\n",
      "\n",
      "Epoch 00023: val_loss did not improve from 0.18300\n",
      "Epoch 24/100\n",
      "288/288 [==============================] - 2s 6ms/step - loss: 0.0527 - accuracy: 0.9832 - val_loss: 0.1905 - val_accuracy: 0.9643\n",
      "\n",
      "Epoch 00024: val_loss did not improve from 0.18300\n",
      "Epoch 25/100\n",
      "288/288 [==============================] - 2s 5ms/step - loss: 0.0528 - accuracy: 0.9824 - val_loss: 0.2073 - val_accuracy: 0.9609\n",
      "\n",
      "Epoch 00025: val_loss did not improve from 0.18300\n",
      "Epoch 26/100\n",
      "288/288 [==============================] - 2s 6ms/step - loss: 0.0464 - accuracy: 0.9851 - val_loss: 0.2391 - val_accuracy: 0.9565\n",
      "\n",
      "Epoch 00026: val_loss did not improve from 0.18300\n",
      "Epoch 27/100\n",
      "288/288 [==============================] - 2s 6ms/step - loss: 0.0672 - accuracy: 0.9805 - val_loss: 0.2071 - val_accuracy: 0.9604\n",
      "\n",
      "Epoch 00027: val_loss did not improve from 0.18300\n",
      "Epoch 28/100\n",
      "288/288 [==============================] - 2s 6ms/step - loss: 0.0643 - accuracy: 0.9807 - val_loss: 0.2166 - val_accuracy: 0.9613\n",
      "\n",
      "Epoch 00028: val_loss did not improve from 0.18300\n",
      "Epoch 29/100\n",
      "288/288 [==============================] - 2s 6ms/step - loss: 0.0461 - accuracy: 0.9849 - val_loss: 0.2309 - val_accuracy: 0.9639\n",
      "\n",
      "Epoch 00029: val_loss did not improve from 0.18300\n",
      "Epoch 30/100\n",
      "288/288 [==============================] - 2s 6ms/step - loss: 0.0472 - accuracy: 0.9843 - val_loss: 0.2135 - val_accuracy: 0.9639\n",
      "\n",
      "Epoch 00030: val_loss did not improve from 0.18300\n",
      "Epoch 31/100\n",
      "288/288 [==============================] - 2s 6ms/step - loss: 0.0460 - accuracy: 0.9865 - val_loss: 0.2536 - val_accuracy: 0.9557\n",
      "\n",
      "Epoch 00031: val_loss did not improve from 0.18300\n",
      "Epoch 32/100\n",
      "288/288 [==============================] - 2s 6ms/step - loss: 0.0374 - accuracy: 0.9868 - val_loss: 0.2269 - val_accuracy: 0.9626\n",
      "\n",
      "Epoch 00032: val_loss did not improve from 0.18300\n",
      "Epoch 33/100\n",
      "288/288 [==============================] - 2s 6ms/step - loss: 0.0315 - accuracy: 0.9895 - val_loss: 0.2498 - val_accuracy: 0.9609\n",
      "\n",
      "Epoch 00033: val_loss did not improve from 0.18300\n",
      "Epoch 34/100\n",
      "288/288 [==============================] - 2s 6ms/step - loss: 0.0291 - accuracy: 0.9892 - val_loss: 0.2412 - val_accuracy: 0.9635\n",
      "\n",
      "Epoch 00034: val_loss did not improve from 0.18300\n",
      "Epoch 35/100\n",
      "288/288 [==============================] - 2s 6ms/step - loss: 0.0396 - accuracy: 0.9889 - val_loss: 0.2436 - val_accuracy: 0.9535\n",
      "\n",
      "Epoch 00035: val_loss did not improve from 0.18300\n",
      "Epoch 36/100\n",
      "288/288 [==============================] - 2s 6ms/step - loss: 0.0302 - accuracy: 0.9897 - val_loss: 0.3026 - val_accuracy: 0.9591\n",
      "\n",
      "Epoch 00036: val_loss did not improve from 0.18300\n",
      "Epoch 37/100\n",
      "288/288 [==============================] - 2s 5ms/step - loss: 0.0392 - accuracy: 0.9877 - val_loss: 0.1857 - val_accuracy: 0.9683\n",
      "\n",
      "Epoch 00037: val_loss did not improve from 0.18300\n",
      "Epoch 38/100\n",
      "288/288 [==============================] - 2s 6ms/step - loss: 0.0306 - accuracy: 0.9904 - val_loss: 0.2407 - val_accuracy: 0.9661\n",
      "\n",
      "Epoch 00038: val_loss did not improve from 0.18300\n",
      "Epoch 39/100\n",
      "288/288 [==============================] - 2s 6ms/step - loss: 0.0331 - accuracy: 0.9911 - val_loss: 0.2247 - val_accuracy: 0.9591\n",
      "\n",
      "Epoch 00039: val_loss did not improve from 0.18300\n",
      "Epoch 40/100\n",
      "288/288 [==============================] - 2s 6ms/step - loss: 0.0266 - accuracy: 0.9907 - val_loss: 0.2738 - val_accuracy: 0.9574\n",
      "\n",
      "Epoch 00040: val_loss did not improve from 0.18300\n",
      "Epoch 41/100\n"
     ]
    },
    {
     "name": "stdout",
     "output_type": "stream",
     "text": [
      "288/288 [==============================] - 2s 5ms/step - loss: 0.0238 - accuracy: 0.9918 - val_loss: 0.2624 - val_accuracy: 0.9648\n",
      "\n",
      "Epoch 00041: val_loss did not improve from 0.18300\n",
      "Epoch 42/100\n",
      "288/288 [==============================] - 2s 6ms/step - loss: 0.0340 - accuracy: 0.9905 - val_loss: 0.2640 - val_accuracy: 0.9587\n",
      "\n",
      "Epoch 00042: val_loss did not improve from 0.18300\n",
      "Epoch 43/100\n",
      "288/288 [==============================] - 2s 5ms/step - loss: 0.0321 - accuracy: 0.9905 - val_loss: 0.2315 - val_accuracy: 0.9652\n",
      "\n",
      "Epoch 00043: val_loss did not improve from 0.18300\n",
      "Epoch 44/100\n",
      "288/288 [==============================] - 2s 6ms/step - loss: 0.0247 - accuracy: 0.9920 - val_loss: 0.3086 - val_accuracy: 0.9535\n",
      "\n",
      "Epoch 00044: val_loss did not improve from 0.18300\n",
      "Epoch 45/100\n",
      "288/288 [==============================] - 2s 5ms/step - loss: 0.0333 - accuracy: 0.9904 - val_loss: 0.2711 - val_accuracy: 0.9604\n",
      "\n",
      "Epoch 00045: val_loss did not improve from 0.18300\n",
      "Epoch 46/100\n",
      "288/288 [==============================] - 2s 6ms/step - loss: 0.0315 - accuracy: 0.9909 - val_loss: 0.3230 - val_accuracy: 0.9513\n",
      "\n",
      "Epoch 00046: val_loss did not improve from 0.18300\n",
      "Epoch 47/100\n",
      "288/288 [==============================] - 2s 6ms/step - loss: 0.0196 - accuracy: 0.9941 - val_loss: 0.3718 - val_accuracy: 0.9587\n",
      "\n",
      "Epoch 00047: val_loss did not improve from 0.18300\n",
      "Epoch 48/100\n",
      "288/288 [==============================] - 2s 6ms/step - loss: 0.0360 - accuracy: 0.9892 - val_loss: 0.2683 - val_accuracy: 0.9635\n",
      "\n",
      "Epoch 00048: val_loss did not improve from 0.18300\n",
      "Epoch 49/100\n",
      "288/288 [==============================] - 2s 6ms/step - loss: 0.0238 - accuracy: 0.9930 - val_loss: 0.2806 - val_accuracy: 0.9661\n",
      "\n",
      "Epoch 00049: val_loss did not improve from 0.18300\n",
      "Epoch 50/100\n",
      "288/288 [==============================] - 2s 6ms/step - loss: 0.0204 - accuracy: 0.9939 - val_loss: 0.2980 - val_accuracy: 0.9613\n",
      "\n",
      "Epoch 00050: val_loss did not improve from 0.18300\n",
      "Epoch 51/100\n",
      "288/288 [==============================] - 2s 6ms/step - loss: 0.0260 - accuracy: 0.9924 - val_loss: 0.2618 - val_accuracy: 0.9630\n",
      "\n",
      "Epoch 00051: val_loss did not improve from 0.18300\n",
      "Epoch 52/100\n",
      "288/288 [==============================] - 2s 6ms/step - loss: 0.0186 - accuracy: 0.9937 - val_loss: 0.2957 - val_accuracy: 0.9604\n",
      "\n",
      "Epoch 00052: val_loss did not improve from 0.18300\n",
      "Epoch 53/100\n",
      "288/288 [==============================] - 2s 6ms/step - loss: 0.0163 - accuracy: 0.9940 - val_loss: 0.3177 - val_accuracy: 0.9591\n",
      "\n",
      "Epoch 00053: val_loss did not improve from 0.18300\n",
      "Epoch 54/100\n",
      "288/288 [==============================] - 2s 6ms/step - loss: 0.0207 - accuracy: 0.9938 - val_loss: 0.3111 - val_accuracy: 0.9622\n",
      "\n",
      "Epoch 00054: val_loss did not improve from 0.18300\n",
      "Epoch 55/100\n",
      "288/288 [==============================] - 2s 6ms/step - loss: 0.0376 - accuracy: 0.9908 - val_loss: 0.2703 - val_accuracy: 0.9652\n",
      "\n",
      "Epoch 00055: val_loss did not improve from 0.18300\n",
      "Epoch 56/100\n",
      "288/288 [==============================] - 2s 6ms/step - loss: 0.0362 - accuracy: 0.9895 - val_loss: 0.2373 - val_accuracy: 0.9643\n",
      "\n",
      "Epoch 00056: val_loss did not improve from 0.18300\n",
      "Epoch 57/100\n",
      "288/288 [==============================] - 2s 6ms/step - loss: 0.0141 - accuracy: 0.9955 - val_loss: 0.2954 - val_accuracy: 0.9596\n",
      "\n",
      "Epoch 00057: val_loss did not improve from 0.18300\n",
      "Epoch 58/100\n",
      "288/288 [==============================] - 2s 6ms/step - loss: 0.0252 - accuracy: 0.9914 - val_loss: 0.3114 - val_accuracy: 0.9591\n",
      "\n",
      "Epoch 00058: val_loss did not improve from 0.18300\n",
      "Epoch 59/100\n",
      "288/288 [==============================] - 2s 6ms/step - loss: 0.0262 - accuracy: 0.9912 - val_loss: 0.3363 - val_accuracy: 0.9583\n",
      "\n",
      "Epoch 00059: val_loss did not improve from 0.18300\n",
      "Epoch 60/100\n",
      "288/288 [==============================] - 2s 6ms/step - loss: 0.0137 - accuracy: 0.9957 - val_loss: 0.2906 - val_accuracy: 0.9657\n",
      "\n",
      "Epoch 00060: val_loss did not improve from 0.18300\n",
      "Epoch 61/100\n",
      "288/288 [==============================] - 2s 6ms/step - loss: 0.0148 - accuracy: 0.9955 - val_loss: 0.2939 - val_accuracy: 0.9652\n",
      "\n",
      "Epoch 00061: val_loss did not improve from 0.18300\n",
      "Epoch 62/100\n",
      "288/288 [==============================] - 2s 6ms/step - loss: 0.0155 - accuracy: 0.9957 - val_loss: 0.3171 - val_accuracy: 0.9622\n",
      "\n",
      "Epoch 00062: val_loss did not improve from 0.18300\n",
      "Epoch 63/100\n",
      "288/288 [==============================] - 2s 6ms/step - loss: 0.0100 - accuracy: 0.9966 - val_loss: 0.3165 - val_accuracy: 0.9648\n",
      "\n",
      "Epoch 00063: val_loss did not improve from 0.18300\n",
      "Epoch 64/100\n",
      "288/288 [==============================] - 2s 6ms/step - loss: 0.0098 - accuracy: 0.9965 - val_loss: 0.2959 - val_accuracy: 0.9643\n",
      "\n",
      "Epoch 00064: val_loss did not improve from 0.18300\n",
      "Epoch 65/100\n",
      "288/288 [==============================] - 2s 6ms/step - loss: 0.0177 - accuracy: 0.9950 - val_loss: 0.3659 - val_accuracy: 0.9643\n",
      "\n",
      "Epoch 00065: val_loss did not improve from 0.18300\n",
      "Epoch 66/100\n",
      "288/288 [==============================] - 2s 6ms/step - loss: 0.0292 - accuracy: 0.9925 - val_loss: 0.2672 - val_accuracy: 0.9622\n",
      "\n",
      "Epoch 00066: val_loss did not improve from 0.18300\n",
      "Epoch 67/100\n",
      "288/288 [==============================] - 2s 6ms/step - loss: 0.0333 - accuracy: 0.9907 - val_loss: 0.2947 - val_accuracy: 0.9648\n",
      "\n",
      "Epoch 00067: val_loss did not improve from 0.18300\n",
      "Epoch 68/100\n",
      "288/288 [==============================] - 2s 6ms/step - loss: 0.0088 - accuracy: 0.9970 - val_loss: 0.3028 - val_accuracy: 0.9657\n",
      "\n",
      "Epoch 00068: val_loss did not improve from 0.18300\n",
      "Epoch 69/100\n",
      "288/288 [==============================] - 2s 6ms/step - loss: 0.0084 - accuracy: 0.9967 - val_loss: 0.3453 - val_accuracy: 0.9643\n",
      "\n",
      "Epoch 00069: val_loss did not improve from 0.18300\n",
      "Epoch 70/100\n",
      "288/288 [==============================] - 2s 6ms/step - loss: 0.0076 - accuracy: 0.9971 - val_loss: 0.3395 - val_accuracy: 0.9670\n",
      "\n",
      "Epoch 00070: val_loss did not improve from 0.18300\n",
      "Epoch 71/100\n",
      "288/288 [==============================] - 2s 5ms/step - loss: 0.0128 - accuracy: 0.9966 - val_loss: 0.3184 - val_accuracy: 0.9652\n",
      "\n",
      "Epoch 00071: val_loss did not improve from 0.18300\n",
      "Epoch 72/100\n",
      "288/288 [==============================] - 2s 6ms/step - loss: 0.0221 - accuracy: 0.9958 - val_loss: 0.4018 - val_accuracy: 0.9591\n",
      "\n",
      "Epoch 00072: val_loss did not improve from 0.18300\n",
      "Epoch 73/100\n",
      "288/288 [==============================] - 2s 6ms/step - loss: 0.0352 - accuracy: 0.9902 - val_loss: 0.3054 - val_accuracy: 0.9617\n",
      "\n",
      "Epoch 00073: val_loss did not improve from 0.18300\n",
      "Epoch 74/100\n",
      "288/288 [==============================] - 2s 6ms/step - loss: 0.0144 - accuracy: 0.9952 - val_loss: 0.3279 - val_accuracy: 0.9609\n",
      "\n",
      "Epoch 00074: val_loss did not improve from 0.18300\n",
      "Epoch 75/100\n",
      "288/288 [==============================] - 2s 6ms/step - loss: 0.0111 - accuracy: 0.9970 - val_loss: 0.3464 - val_accuracy: 0.9604\n",
      "\n",
      "Epoch 00075: val_loss did not improve from 0.18300\n",
      "Epoch 76/100\n",
      "288/288 [==============================] - 2s 6ms/step - loss: 0.0164 - accuracy: 0.9950 - val_loss: 0.3962 - val_accuracy: 0.9496\n",
      "\n",
      "Epoch 00076: val_loss did not improve from 0.18300\n",
      "Epoch 77/100\n",
      "288/288 [==============================] - 2s 6ms/step - loss: 0.0106 - accuracy: 0.9967 - val_loss: 0.3034 - val_accuracy: 0.9665\n",
      "\n",
      "Epoch 00077: val_loss did not improve from 0.18300\n",
      "Epoch 78/100\n",
      "288/288 [==============================] - 2s 6ms/step - loss: 0.0060 - accuracy: 0.9984 - val_loss: 0.3440 - val_accuracy: 0.9635\n",
      "\n",
      "Epoch 00078: val_loss did not improve from 0.18300\n",
      "Epoch 79/100\n",
      "288/288 [==============================] - 2s 6ms/step - loss: 0.0042 - accuracy: 0.9992 - val_loss: 0.3444 - val_accuracy: 0.9630\n",
      "\n",
      "Epoch 00079: val_loss did not improve from 0.18300\n",
      "Epoch 80/100\n",
      "288/288 [==============================] - 2s 6ms/step - loss: 0.0108 - accuracy: 0.9968 - val_loss: 0.3401 - val_accuracy: 0.9639\n",
      "\n",
      "Epoch 00080: val_loss did not improve from 0.18300\n",
      "Epoch 81/100\n",
      "288/288 [==============================] - 2s 6ms/step - loss: 0.0148 - accuracy: 0.9958 - val_loss: 0.3464 - val_accuracy: 0.9622\n",
      "\n",
      "Epoch 00081: val_loss did not improve from 0.18300\n",
      "Epoch 82/100\n",
      "288/288 [==============================] - 2s 6ms/step - loss: 0.0123 - accuracy: 0.9965 - val_loss: 0.3290 - val_accuracy: 0.9661\n",
      "\n",
      "Epoch 00082: val_loss did not improve from 0.18300\n",
      "Epoch 83/100\n"
     ]
    },
    {
     "name": "stdout",
     "output_type": "stream",
     "text": [
      "288/288 [==============================] - 2s 5ms/step - loss: 0.0059 - accuracy: 0.9979 - val_loss: 0.3708 - val_accuracy: 0.9600\n",
      "\n",
      "Epoch 00083: val_loss did not improve from 0.18300\n",
      "Epoch 84/100\n",
      "288/288 [==============================] - 2s 6ms/step - loss: 0.0098 - accuracy: 0.9972 - val_loss: 0.3191 - val_accuracy: 0.9696\n",
      "\n",
      "Epoch 00084: val_loss did not improve from 0.18300\n",
      "Epoch 85/100\n",
      "288/288 [==============================] - 2s 5ms/step - loss: 0.0117 - accuracy: 0.9963 - val_loss: 0.3903 - val_accuracy: 0.9622\n",
      "\n",
      "Epoch 00085: val_loss did not improve from 0.18300\n",
      "Epoch 86/100\n",
      "288/288 [==============================] - 2s 5ms/step - loss: 0.0030 - accuracy: 0.9993 - val_loss: 0.3729 - val_accuracy: 0.9648\n",
      "\n",
      "Epoch 00086: val_loss did not improve from 0.18300\n",
      "Epoch 87/100\n",
      "288/288 [==============================] - 2s 5ms/step - loss: 0.0035 - accuracy: 0.9991 - val_loss: 0.3888 - val_accuracy: 0.9648\n",
      "\n",
      "Epoch 00087: val_loss did not improve from 0.18300\n",
      "Epoch 88/100\n",
      "288/288 [==============================] - 2s 6ms/step - loss: 0.0034 - accuracy: 0.9988 - val_loss: 0.3862 - val_accuracy: 0.9648\n",
      "\n",
      "Epoch 00088: val_loss did not improve from 0.18300\n",
      "Epoch 89/100\n",
      "288/288 [==============================] - 2s 6ms/step - loss: 0.0037 - accuracy: 0.9990 - val_loss: 0.3997 - val_accuracy: 0.9626\n",
      "\n",
      "Epoch 00089: val_loss did not improve from 0.18300\n",
      "Epoch 90/100\n",
      "288/288 [==============================] - 2s 6ms/step - loss: 0.0054 - accuracy: 0.9980 - val_loss: 0.3848 - val_accuracy: 0.9613\n",
      "\n",
      "Epoch 00090: val_loss did not improve from 0.18300\n",
      "Epoch 91/100\n",
      "288/288 [==============================] - 2s 5ms/step - loss: 0.0037 - accuracy: 0.9992 - val_loss: 0.4283 - val_accuracy: 0.9648\n",
      "\n",
      "Epoch 00091: val_loss did not improve from 0.18300\n",
      "Epoch 92/100\n",
      "288/288 [==============================] - 2s 5ms/step - loss: 0.0397 - accuracy: 0.9917 - val_loss: 0.3277 - val_accuracy: 0.9583\n",
      "\n",
      "Epoch 00092: val_loss did not improve from 0.18300\n",
      "Epoch 93/100\n",
      "288/288 [==============================] - 2s 5ms/step - loss: 0.0257 - accuracy: 0.9925 - val_loss: 0.3140 - val_accuracy: 0.9657\n",
      "\n",
      "Epoch 00093: val_loss did not improve from 0.18300\n",
      "Epoch 94/100\n",
      "288/288 [==============================] - 2s 6ms/step - loss: 0.0101 - accuracy: 0.9973 - val_loss: 0.3442 - val_accuracy: 0.9661\n",
      "\n",
      "Epoch 00094: val_loss did not improve from 0.18300\n",
      "Epoch 95/100\n",
      "288/288 [==============================] - 2s 5ms/step - loss: 0.0203 - accuracy: 0.9947 - val_loss: 0.4146 - val_accuracy: 0.9578\n",
      "\n",
      "Epoch 00095: val_loss did not improve from 0.18300\n",
      "Epoch 96/100\n",
      "288/288 [==============================] - 2s 6ms/step - loss: 0.0098 - accuracy: 0.9962 - val_loss: 0.3485 - val_accuracy: 0.9630\n",
      "\n",
      "Epoch 00096: val_loss did not improve from 0.18300\n",
      "Epoch 97/100\n",
      "288/288 [==============================] - 2s 5ms/step - loss: 0.0039 - accuracy: 0.9986 - val_loss: 0.3622 - val_accuracy: 0.9639\n",
      "\n",
      "Epoch 00097: val_loss did not improve from 0.18300\n",
      "Epoch 98/100\n",
      "288/288 [==============================] - 2s 5ms/step - loss: 0.0056 - accuracy: 0.9983 - val_loss: 0.3978 - val_accuracy: 0.9622\n",
      "\n",
      "Epoch 00098: val_loss did not improve from 0.18300\n",
      "Epoch 99/100\n",
      "288/288 [==============================] - 2s 5ms/step - loss: 0.0041 - accuracy: 0.9987 - val_loss: 0.3713 - val_accuracy: 0.9652\n",
      "\n",
      "Epoch 00099: val_loss did not improve from 0.18300\n",
      "Epoch 100/100\n",
      "288/288 [==============================] - 2s 6ms/step - loss: 0.0077 - accuracy: 0.9982 - val_loss: 0.4139 - val_accuracy: 0.9600\n",
      "\n",
      "Epoch 00100: val_loss did not improve from 0.18300\n"
     ]
    }
   ],
   "source": [
    "# Train data \n",
    "# Grayscale\n",
    "# full -> X_trainr_full, Y_train_combined\n",
    "# filter -> X_trainr_filter, Y_train_filter\n",
    "\n",
    "# Binary\n",
    "# full -> X_trainr_binary_full, Y_train_combined\n",
    "# filter -> X_trainr_binary_filter, Y_train_filter\n",
    "\n",
    "history = model.fit(X_trainr_binary_filter, Y_train_filter, epochs= 100, validation_split = 0.2, callbacks = [cp_callback]) # melakukan training data "
   ]
  },
  {
   "cell_type": "code",
   "execution_count": 69,
   "id": "a9cf8c91",
   "metadata": {},
   "outputs": [],
   "source": [
    "model.load_weights(\"checkpoint.h5\") # load checkpoint from file"
   ]
  },
  {
   "cell_type": "markdown",
   "id": "48c4ff23",
   "metadata": {
    "id": "ibU1IScnEqFi"
   },
   "source": [
    "# Test Accuracy"
   ]
  },
  {
   "cell_type": "code",
   "execution_count": 70,
   "id": "93f3139b",
   "metadata": {
    "id": "93f3139b",
    "outputId": "d46dd414-d720-4289-8e0f-f975c406ef4a"
   },
   "outputs": [],
   "source": [
    "# # check grayscale data accuracy\n",
    "\n",
    "# test_loss, test_acc = model.evaluate(X_testr_full, Y_test_fix, batch_size = 1) \n",
    "# print(\"Test loss on test samples\", test_loss) # menampilkan akurasi loss dari data dalam bentuk grayscale\n",
    "# print(\"Validation Accuracy on test samples\", test_acc) # menampilkan akurasi validasi dari data dalam bentuk grayscale"
   ]
  },
  {
   "cell_type": "code",
   "execution_count": 71,
   "id": "e9184ef3",
   "metadata": {
    "id": "e9184ef3",
    "outputId": "30bd35c2-da37-4f9f-dc57-e4ef5b3df180"
   },
   "outputs": [
    {
     "name": "stdout",
     "output_type": "stream",
     "text": [
      "100/100 [==============================] - 0s 3ms/step - loss: 0.8705 - accuracy: 0.7200\n",
      "Test loss on test samples 0.8705212473869324\n",
      "Validation Accuracy test samples 0.7200000286102295\n"
     ]
    }
   ],
   "source": [
    "# check binary data accuracy\n",
    "\n",
    "test_loss, test_acc = model.evaluate(X_testr_binary_full, Y_test_binary_fix, batch_size = 1)\n",
    "print(\"Test loss on test samples\", test_loss) # menampilkan akurasi loss dari data dalam bentuk biner\n",
    "print(\"Validation Accuracy test samples\", test_acc) # menampilkan validasi akurasi dari data dalam bentuk biner"
   ]
  },
  {
   "cell_type": "code",
   "execution_count": 72,
   "id": "98a4a6f9",
   "metadata": {
    "id": "98a4a6f9"
   },
   "outputs": [],
   "source": [
    "import cv2"
   ]
  },
  {
   "cell_type": "code",
   "execution_count": 73,
   "id": "7ee92c44",
   "metadata": {},
   "outputs": [
    {
     "name": "stdout",
     "output_type": "stream",
     "text": [
      "6\n"
     ]
    },
    {
     "data": {
      "image/png": "[encoded data removed]",
      "text/plain": [
       "<Figure size 432x288 with 1 Axes>"
      ]
     },
     "metadata": {
      "needs_background": "light"
     },
     "output_type": "display_data"
    }
   ],
   "source": [
    "img1 = cv2.imread(\"dataset_dilate/0/img (1).jpg\")\n",
    "plt.imshow(img1)\n",
    "\n",
    "gray = cv2.cvtColor(img1, cv2.COLOR_BGR2GRAY)\n",
    "resized = cv2.resize(gray, (28,28), interpolation = cv2.INTER_AREA)\n",
    "newing = tf.keras.utils.normalize (resized, axis=1)\n",
    "newing = np.array(newing).reshape(-1, IMG_SIZE, IMG_SIZE, 1)\n",
    "predictions = model.predict(newing)\n",
    "print(np.argmax(predictions))"
   ]
  },
  {
   "cell_type": "code",
   "execution_count": 74,
   "id": "6cdde6f0",
   "metadata": {
    "id": "6cdde6f0",
    "outputId": "56800ab7-619b-41af-dbb6-513a9acb1b4e"
   },
   "outputs": [
    {
     "name": "stdout",
     "output_type": "stream",
     "text": [
      "6\n"
     ]
    },
    {
     "data": {
      "image/png": "[encoded data removed]",
      "text/plain": [
       "<Figure size 432x288 with 1 Axes>"
      ]
     },
     "metadata": {
      "needs_background": "light"
     },
     "output_type": "display_data"
    }
   ],
   "source": [
    "img1 = cv2.imread(\"dataset_dilate/1/img (1).png\")\n",
    "plt.imshow(img1)\n",
    "\n",
    "gray = cv2.cvtColor(img1, cv2.COLOR_BGR2GRAY)\n",
    "resized = cv2.resize(gray, (28,28), interpolation = cv2.INTER_AREA)\n",
    "newing = tf.keras.utils.normalize (resized, axis=1)\n",
    "newing = np.array(newing).reshape(-1, IMG_SIZE, IMG_SIZE, 1)\n",
    "predictions = model.predict(newing)\n",
    "print(np.argmax(predictions))"
   ]
  },
  {
   "cell_type": "code",
   "execution_count": 75,
   "id": "fd514bd5",
   "metadata": {
    "id": "fd514bd5",
    "outputId": "da5e9c21-80b7-429f-8373-6d0d60e7aba3"
   },
   "outputs": [
    {
     "name": "stdout",
     "output_type": "stream",
     "text": [
      "6\n"
     ]
    },
    {
     "data": {
      "image/png": "[encoded data removed]",
      "text/plain": [
       "<Figure size 432x288 with 1 Axes>"
      ]
     },
     "metadata": {
      "needs_background": "light"
     },
     "output_type": "display_data"
    }
   ],
   "source": [
    "img1 = cv2.imread(\"dataset_dilate/2/img (1).png\")\n",
    "plt.imshow(img1)\n",
    "\n",
    "gray = cv2.cvtColor(img1, cv2.COLOR_BGR2GRAY)\n",
    "resized = cv2.resize(gray, (28,28), interpolation = cv2.INTER_AREA)\n",
    "newing = tf.keras.utils.normalize (resized, axis=1)\n",
    "newing = np.array(newing).reshape(-1, IMG_SIZE, IMG_SIZE, 1)\n",
    "predictions = model.predict(newing)\n",
    "print(np.argmax(predictions))"
   ]
  },
  {
   "cell_type": "code",
   "execution_count": 76,
   "id": "36a6a7ed",
   "metadata": {
    "id": "36a6a7ed",
    "outputId": "c968e3a8-b4fc-43bd-d5f5-4af0bf2a7f56"
   },
   "outputs": [
    {
     "name": "stdout",
     "output_type": "stream",
     "text": [
      "6\n"
     ]
    },
    {
     "data": {
      "image/png": "[encoded data removed]",
      "text/plain": [
       "<Figure size 432x288 with 1 Axes>"
      ]
     },
     "metadata": {
      "needs_background": "light"
     },
     "output_type": "display_data"
    }
   ],
   "source": [
    "img1 = cv2.imread(\"dataset_dilate/3/img (1).jpg\")\n",
    "plt.imshow(img1)\n",
    "\n",
    "gray = cv2.cvtColor(img1, cv2.COLOR_BGR2GRAY)\n",
    "resized = cv2.resize(gray, (28,28), interpolation = cv2.INTER_AREA)\n",
    "newing = tf.keras.utils.normalize (resized, axis=1)\n",
    "newing = np.array(newing).reshape(-1, IMG_SIZE, IMG_SIZE, 1)\n",
    "predictions = model.predict(newing)\n",
    "print(np.argmax(predictions))"
   ]
  },
  {
   "cell_type": "code",
   "execution_count": 77,
   "id": "4654ee8b",
   "metadata": {
    "id": "4654ee8b",
    "outputId": "4d0f357e-e581-48a7-83d0-acb818237c7c"
   },
   "outputs": [
    {
     "name": "stdout",
     "output_type": "stream",
     "text": [
      "6\n"
     ]
    },
    {
     "data": {
      "image/png": "[encoded data removed]",
      "text/plain": [
       "<Figure size 432x288 with 1 Axes>"
      ]
     },
     "metadata": {
      "needs_background": "light"
     },
     "output_type": "display_data"
    }
   ],
   "source": [
    "img1 = cv2.imread(\"dataset_dilate/4/img (1).jpg\")\n",
    "plt.imshow(img1)\n",
    "\n",
    "gray = cv2.cvtColor(img1, cv2.COLOR_BGR2GRAY)\n",
    "resized = cv2.resize(gray, (28,28), interpolation = cv2.INTER_AREA)\n",
    "newing = tf.keras.utils.normalize (resized, axis=1)\n",
    "newing = np.array(newing).reshape(-1, IMG_SIZE, IMG_SIZE, 1)\n",
    "predictions = model.predict(newing)\n",
    "print(np.argmax(predictions))"
   ]
  },
  {
   "cell_type": "code",
   "execution_count": 78,
   "id": "868bddf3",
   "metadata": {
    "id": "868bddf3",
    "outputId": "af5c40e7-cdca-425c-f470-dd5f740c3b3f"
   },
   "outputs": [
    {
     "name": "stdout",
     "output_type": "stream",
     "text": [
      "6\n"
     ]
    },
    {
     "data": {
      "image/png": "[encoded data removed]",
      "text/plain": [
       "<Figure size 432x288 with 1 Axes>"
      ]
     },
     "metadata": {
      "needs_background": "light"
     },
     "output_type": "display_data"
    }
   ],
   "source": [
    "img1 = cv2.imread(\"dataset_dilate/5/img (1).jpg\")\n",
    "plt.imshow(img1)\n",
    "\n",
    "gray = cv2.cvtColor(img1, cv2.COLOR_BGR2GRAY)\n",
    "resized = cv2.resize(gray, (28,28), interpolation = cv2.INTER_AREA)\n",
    "newing = tf.keras.utils.normalize (resized, axis=1)\n",
    "newing = np.array(newing).reshape(-1, IMG_SIZE, IMG_SIZE, 1)\n",
    "predictions = model.predict(newing)\n",
    "print(np.argmax(predictions))"
   ]
  },
  {
   "cell_type": "code",
   "execution_count": 79,
   "id": "4c9a10b6",
   "metadata": {
    "id": "4c9a10b6",
    "outputId": "e0949318-86ed-4c6f-bbe5-561cd17aeebf"
   },
   "outputs": [
    {
     "name": "stdout",
     "output_type": "stream",
     "text": [
      "6\n"
     ]
    },
    {
     "data": {
      "image/png": "[encoded data removed]",
      "text/plain": [
       "<Figure size 432x288 with 1 Axes>"
      ]
     },
     "metadata": {
      "needs_background": "light"
     },
     "output_type": "display_data"
    }
   ],
   "source": [
    "img1 = cv2.imread(\"dataset_dilate/6/img (1).jpg\")\n",
    "plt.imshow(img1)\n",
    "\n",
    "gray = cv2.cvtColor(img1, cv2.COLOR_BGR2GRAY)\n",
    "resized = cv2.resize(gray, (28,28), interpolation = cv2.INTER_AREA)\n",
    "newing = tf.keras.utils.normalize (resized, axis=1)\n",
    "newing = np.array(newing).reshape(-1, IMG_SIZE, IMG_SIZE, 1)\n",
    "predictions = model.predict(newing)\n",
    "print(np.argmax(predictions))"
   ]
  },
  {
   "cell_type": "code",
   "execution_count": 80,
   "id": "707b97b2",
   "metadata": {
    "id": "707b97b2",
    "outputId": "5d14bac8-ce7b-453d-8b2c-21da70446411"
   },
   "outputs": [
    {
     "name": "stdout",
     "output_type": "stream",
     "text": [
      "6\n"
     ]
    },
    {
     "data": {
      "image/png": "[encoded data removed]",
      "text/plain": [
       "<Figure size 432x288 with 1 Axes>"
      ]
     },
     "metadata": {
      "needs_background": "light"
     },
     "output_type": "display_data"
    }
   ],
   "source": [
    "img1 = cv2.imread(\"dataset_dilate/7/img (1).jpg\")\n",
    "plt.imshow(img1)\n",
    "\n",
    "gray = cv2.cvtColor(img1, cv2.COLOR_BGR2GRAY)\n",
    "resized = cv2.resize(gray, (28,28), interpolation = cv2.INTER_AREA)\n",
    "newing = tf.keras.utils.normalize (resized, axis=1)\n",
    "newing = np.array(newing).reshape(-1, IMG_SIZE, IMG_SIZE, 1)\n",
    "predictions = model.predict(newing)\n",
    "print(np.argmax(predictions))"
   ]
  },
  {
   "cell_type": "code",
   "execution_count": 81,
   "id": "7fe87b5f",
   "metadata": {
    "id": "7fe87b5f",
    "outputId": "692b1eea-7af9-435f-d57b-f0ce8482c107"
   },
   "outputs": [
    {
     "name": "stdout",
     "output_type": "stream",
     "text": [
      "6\n"
     ]
    },
    {
     "data": {
      "image/png": "[encoded data removed]",
      "text/plain": [
       "<Figure size 432x288 with 1 Axes>"
      ]
     },
     "metadata": {
      "needs_background": "light"
     },
     "output_type": "display_data"
    }
   ],
   "source": [
    "img1 = cv2.imread(\"dataset_dilate/8/img (1).jpg\")\n",
    "plt.imshow(img1)\n",
    "\n",
    "gray = cv2.cvtColor(img1, cv2.COLOR_BGR2GRAY)\n",
    "resized = cv2.resize(gray, (28,28), interpolation = cv2.INTER_AREA)\n",
    "newing = tf.keras.utils.normalize (resized, axis=1)\n",
    "newing = np.array(newing).reshape(-1, IMG_SIZE, IMG_SIZE, 1)\n",
    "predictions = model.predict(newing)\n",
    "print(np.argmax(predictions))"
   ]
  },
  {
   "cell_type": "code",
   "execution_count": 82,
   "id": "656563b7",
   "metadata": {
    "id": "656563b7",
    "outputId": "699e4e4e-3aff-4f49-bf59-956117e783db"
   },
   "outputs": [
    {
     "name": "stdout",
     "output_type": "stream",
     "text": [
      "6\n"
     ]
    },
    {
     "data": {
      "image/png": "[encoded data removed]",
      "text/plain": [
       "<Figure size 432x288 with 1 Axes>"
      ]
     },
     "metadata": {
      "needs_background": "light"
     },
     "output_type": "display_data"
    }
   ],
   "source": [
    "img1 = cv2.imread(\"dataset_dilate/9/img (1).jpg\")\n",
    "plt.imshow(img1)\n",
    "\n",
    "gray = cv2.cvtColor(img1, cv2.COLOR_BGR2GRAY)\n",
    "resized = cv2.resize(gray, (28,28), interpolation = cv2.INTER_AREA)\n",
    "newing = tf.keras.utils.normalize (resized, axis=1)\n",
    "newing = np.array(newing).reshape(-1, IMG_SIZE, IMG_SIZE, 1)\n",
    "predictions = model.predict(newing)\n",
    "print(np.argmax(predictions))"
   ]
  },
  {
   "cell_type": "code",
   "execution_count": 83,
   "id": "4c4a6c87",
   "metadata": {
    "id": "4c4a6c87",
    "outputId": "804e8cdf-5140-4a9f-d68b-a144cf1793eb"
   },
   "outputs": [
    {
     "name": "stdout",
     "output_type": "stream",
     "text": [
      "6\n"
     ]
    },
    {
     "data": {
      "image/png": "[encoded data removed]",
      "text/plain": [
       "<Figure size 432x288 with 1 Axes>"
      ]
     },
     "metadata": {
      "needs_background": "light"
     },
     "output_type": "display_data"
    }
   ],
   "source": [
    "img1 = cv2.imread(\"dataset_dilate/0/img (2).jpg\")\n",
    "plt.imshow(img1)\n",
    "\n",
    "gray = cv2.cvtColor(img1, cv2.COLOR_BGR2GRAY)\n",
    "resized = cv2.resize(gray, (28,28), interpolation = cv2.INTER_AREA)\n",
    "newing = tf.keras.utils.normalize (resized, axis=1)\n",
    "newing = np.array(newing).reshape(-1, IMG_SIZE, IMG_SIZE, 1)\n",
    "predictions = model.predict(newing)\n",
    "print(np.argmax(predictions))"
   ]
  },
  {
   "cell_type": "code",
   "execution_count": 84,
   "id": "bd42ecf5",
   "metadata": {
    "id": "bd42ecf5",
    "outputId": "110bb35f-ebb1-46ad-a600-f4531b854b90"
   },
   "outputs": [
    {
     "name": "stdout",
     "output_type": "stream",
     "text": [
      "6\n"
     ]
    },
    {
     "data": {
      "image/png": "[encoded data removed]",
      "text/plain": [
       "<Figure size 432x288 with 1 Axes>"
      ]
     },
     "metadata": {
      "needs_background": "light"
     },
     "output_type": "display_data"
    }
   ],
   "source": [
    "img1 = cv2.imread(\"dataset_dilate/1/img (2).jpg\")\n",
    "plt.imshow(img1)\n",
    "\n",
    "gray = cv2.cvtColor(img1, cv2.COLOR_BGR2GRAY)\n",
    "resized = cv2.resize(gray, (28,28), interpolation = cv2.INTER_AREA)\n",
    "newing = tf.keras.utils.normalize (resized, axis=1)\n",
    "newing = np.array(newing).reshape(-1, IMG_SIZE, IMG_SIZE, 1)\n",
    "predictions = model.predict(newing)\n",
    "print(np.argmax(predictions))"
   ]
  },
  {
   "cell_type": "code",
   "execution_count": 85,
   "id": "4294120f",
   "metadata": {
    "id": "4294120f",
    "outputId": "b210c68f-2883-436b-f0a6-cdf2b543e3c4"
   },
   "outputs": [
    {
     "name": "stdout",
     "output_type": "stream",
     "text": [
      "6\n"
     ]
    },
    {
     "data": {
      "image/png": "[encoded data removed]",
      "text/plain": [
       "<Figure size 432x288 with 1 Axes>"
      ]
     },
     "metadata": {
      "needs_background": "light"
     },
     "output_type": "display_data"
    }
   ],
   "source": [
    "img1 = cv2.imread(\"dataset_dilate/2/img (2).png\")\n",
    "plt.imshow(img1)\n",
    "\n",
    "gray = cv2.cvtColor(img1, cv2.COLOR_BGR2GRAY)\n",
    "resized = cv2.resize(gray, (28,28), interpolation = cv2.INTER_AREA)\n",
    "newing = tf.keras.utils.normalize (resized, axis=1)\n",
    "newing = np.array(newing).reshape(-1, IMG_SIZE, IMG_SIZE, 1)\n",
    "predictions = model.predict(newing)\n",
    "print(np.argmax(predictions))"
   ]
  },
  {
   "cell_type": "code",
   "execution_count": 86,
   "id": "8bcdd21d",
   "metadata": {
    "id": "8bcdd21d",
    "outputId": "e0633da6-e84a-4ebd-eb13-e430ef04b51e"
   },
   "outputs": [
    {
     "name": "stdout",
     "output_type": "stream",
     "text": [
      "6\n"
     ]
    },
    {
     "data": {
      "image/png": "[encoded data removed]",
      "text/plain": [
       "<Figure size 432x288 with 1 Axes>"
      ]
     },
     "metadata": {
      "needs_background": "light"
     },
     "output_type": "display_data"
    }
   ],
   "source": [
    "img1 = cv2.imread(\"dataset_dilate/3/img (2).jpg\")\n",
    "plt.imshow(img1)\n",
    "\n",
    "gray = cv2.cvtColor(img1, cv2.COLOR_BGR2GRAY)\n",
    "resized = cv2.resize(gray, (28,28), interpolation = cv2.INTER_AREA)\n",
    "newing = tf.keras.utils.normalize (resized, axis=1)\n",
    "newing = np.array(newing).reshape(-1, IMG_SIZE, IMG_SIZE, 1)\n",
    "predictions = model.predict(newing)\n",
    "print(np.argmax(predictions))"
   ]
  },
  {
   "cell_type": "code",
   "execution_count": 87,
   "id": "f960d337",
   "metadata": {
    "id": "f960d337",
    "outputId": "0433e5e1-62ed-465c-f972-497f32ee3266"
   },
   "outputs": [
    {
     "name": "stdout",
     "output_type": "stream",
     "text": [
      "6\n"
     ]
    },
    {
     "data": {
      "image/png": "[encoded data removed]",
      "text/plain": [
       "<Figure size 432x288 with 1 Axes>"
      ]
     },
     "metadata": {
      "needs_background": "light"
     },
     "output_type": "display_data"
    }
   ],
   "source": [
    "img1 = cv2.imread(\"dataset_dilate/4/img (2).jpg\")\n",
    "plt.imshow(img1)\n",
    "\n",
    "gray = cv2.cvtColor(img1, cv2.COLOR_BGR2GRAY)\n",
    "resized = cv2.resize(gray, (28,28), interpolation = cv2.INTER_AREA)\n",
    "newing = tf.keras.utils.normalize (resized, axis=1)\n",
    "newing = np.array(newing).reshape(-1, IMG_SIZE, IMG_SIZE, 1)\n",
    "predictions = model.predict(newing)\n",
    "print(np.argmax(predictions))"
   ]
  },
  {
   "cell_type": "code",
   "execution_count": 88,
   "id": "36a12af4",
   "metadata": {
    "id": "36a12af4",
    "outputId": "824ef2f2-a2ac-4124-e847-4119397375b4"
   },
   "outputs": [
    {
     "name": "stdout",
     "output_type": "stream",
     "text": [
      "6\n"
     ]
    },
    {
     "data": {
      "image/png": "[encoded data removed]",
      "text/plain": [
       "<Figure size 432x288 with 1 Axes>"
      ]
     },
     "metadata": {
      "needs_background": "light"
     },
     "output_type": "display_data"
    }
   ],
   "source": [
    "img1 = cv2.imread(\"dataset_dilate/5/img (2).jpg\")\n",
    "plt.imshow(img1)\n",
    "\n",
    "gray = cv2.cvtColor(img1, cv2.COLOR_BGR2GRAY)\n",
    "resized = cv2.resize(gray, (28,28), interpolation = cv2.INTER_AREA)\n",
    "newing = tf.keras.utils.normalize (resized, axis=1)\n",
    "newing = np.array(newing).reshape(-1, IMG_SIZE, IMG_SIZE, 1)\n",
    "predictions = model.predict(newing)\n",
    "print(np.argmax(predictions))"
   ]
  },
  {
   "cell_type": "code",
   "execution_count": 89,
   "id": "da212eba",
   "metadata": {
    "id": "da212eba",
    "outputId": "28aee833-155e-4f4d-fc58-b535d7f4b682"
   },
   "outputs": [
    {
     "name": "stdout",
     "output_type": "stream",
     "text": [
      "6\n"
     ]
    },
    {
     "data": {
      "image/png": "[encoded data removed]",
      "text/plain": [
       "<Figure size 432x288 with 1 Axes>"
      ]
     },
     "metadata": {
      "needs_background": "light"
     },
     "output_type": "display_data"
    }
   ],
   "source": [
    "img1 = cv2.imread(\"dataset_dilate/6/img (2).jpg\")\n",
    "plt.imshow(img1)\n",
    "\n",
    "gray = cv2.cvtColor(img1, cv2.COLOR_BGR2GRAY)\n",
    "resized = cv2.resize(gray, (28,28), interpolation = cv2.INTER_AREA)\n",
    "newing = tf.keras.utils.normalize (resized, axis=1)\n",
    "newing = np.array(newing).reshape(-1, IMG_SIZE, IMG_SIZE, 1)\n",
    "predictions = model.predict(newing)\n",
    "print(np.argmax(predictions))"
   ]
  },
  {
   "cell_type": "code",
   "execution_count": 90,
   "id": "6c2df54a",
   "metadata": {
    "id": "6c2df54a",
    "outputId": "94a022ae-6ff9-4cd2-fb1e-82b7dfc0304e"
   },
   "outputs": [
    {
     "name": "stdout",
     "output_type": "stream",
     "text": [
      "6\n"
     ]
    },
    {
     "data": {
      "image/png": "[encoded data removed]",
      "text/plain": [
       "<Figure size 432x288 with 1 Axes>"
      ]
     },
     "metadata": {
      "needs_background": "light"
     },
     "output_type": "display_data"
    }
   ],
   "source": [
    "img1 = cv2.imread(\"dataset_dilate/7/img (2).png\")\n",
    "plt.imshow(img1)\n",
    "\n",
    "gray = cv2.cvtColor(img1, cv2.COLOR_BGR2GRAY)\n",
    "resized = cv2.resize(gray, (28,28), interpolation = cv2.INTER_AREA)\n",
    "newing = tf.keras.utils.normalize (resized, axis=1)\n",
    "newing = np.array(newing).reshape(-1, IMG_SIZE, IMG_SIZE, 1)\n",
    "predictions = model.predict(newing)\n",
    "print(np.argmax(predictions))"
   ]
  },
  {
   "cell_type": "code",
   "execution_count": 91,
   "id": "bcefaaab",
   "metadata": {
    "id": "bcefaaab",
    "outputId": "d3134eec-24e1-456b-e8ef-e453bde2b421"
   },
   "outputs": [
    {
     "name": "stdout",
     "output_type": "stream",
     "text": [
      "6\n"
     ]
    },
    {
     "data": {
      "image/png": "[encoded data removed]",
      "text/plain": [
       "<Figure size 432x288 with 1 Axes>"
      ]
     },
     "metadata": {
      "needs_background": "light"
     },
     "output_type": "display_data"
    }
   ],
   "source": [
    "img1 = cv2.imread(\"dataset_dilate/8/img (2).jpg\")\n",
    "plt.imshow(img1)\n",
    "\n",
    "gray = cv2.cvtColor(img1, cv2.COLOR_BGR2GRAY)\n",
    "resized = cv2.resize(gray, (28,28), interpolation = cv2.INTER_AREA)\n",
    "newing = tf.keras.utils.normalize (resized, axis=1)\n",
    "newing = np.array(newing).reshape(-1, IMG_SIZE, IMG_SIZE, 1)\n",
    "predictions = model.predict(newing)\n",
    "print(np.argmax(predictions))"
   ]
  },
  {
   "cell_type": "code",
   "execution_count": 92,
   "id": "6c7c33ba",
   "metadata": {
    "id": "6c7c33ba",
    "outputId": "d509946a-6be5-4ef2-82d5-60382d8fab55"
   },
   "outputs": [
    {
     "name": "stdout",
     "output_type": "stream",
     "text": [
      "6\n"
     ]
    },
    {
     "data": {
      "image/png": "[encoded data removed]",
      "text/plain": [
       "<Figure size 432x288 with 1 Axes>"
      ]
     },
     "metadata": {
      "needs_background": "light"
     },
     "output_type": "display_data"
    }
   ],
   "source": [
    "img1 = cv2.imread(\"dataset_dilate/9/img (2).jpg\")\n",
    "plt.imshow(img1)\n",
    "\n",
    "gray = cv2.cvtColor(img1, cv2.COLOR_BGR2GRAY)\n",
    "resized = cv2.resize(gray, (28,28), interpolation = cv2.INTER_AREA)\n",
    "newing = tf.keras.utils.normalize (resized, axis=1)\n",
    "newing = np.array(newing).reshape(-1, IMG_SIZE, IMG_SIZE, 1)\n",
    "predictions = model.predict(newing)\n",
    "print(np.argmax(predictions))"
   ]
  },
  {
   "cell_type": "code",
   "execution_count": null,
   "id": "3da450a2",
   "metadata": {},
   "outputs": [],
   "source": [
    "predictions = model.predict([X_train_combined_binary])\n",
    "print(np.argmax(predictions[1]))\n",
    "plt.imshow(X_train_combined_binary[1], cmap = 'binary')"
   ]
  },
  {
   "cell_type": "code",
   "execution_count": null,
   "id": "acbfcf80",
   "metadata": {
    "id": "acbfcf80"
   },
   "outputs": [],
   "source": [
    "predictions = model.predict([X_train_combined_binary])\n",
    "print(np.argmax(predictions[53]))\n",
    "plt.imshow(X_train_combined_binary[53], cmap = 'binary')"
   ]
  },
  {
   "cell_type": "code",
   "execution_count": null,
   "id": "62b19076",
   "metadata": {
    "id": "62b19076"
   },
   "outputs": [],
   "source": [
    "predictions = model.predict([X_train_combined_binary])\n",
    "print(np.argmax(predictions[102]))\n",
    "plt.imshow(X_train_combined_binary[102], cmap = 'binary')"
   ]
  },
  {
   "cell_type": "code",
   "execution_count": null,
   "id": "08c12ff9",
   "metadata": {
    "id": "08c12ff9"
   },
   "outputs": [],
   "source": [
    "predictions = model.predict([X_train_combined_binary])\n",
    "print(np.argmax(predictions[153]))\n",
    "plt.imshow(X_train_combined_binary[153], cmap = 'binary')"
   ]
  },
  {
   "cell_type": "code",
   "execution_count": null,
   "id": "3dd67cf0",
   "metadata": {
    "id": "3dd67cf0"
   },
   "outputs": [],
   "source": [
    "predictions = model.predict([X_train_combined_binary])\n",
    "print(np.argmax(predictions[202]))\n",
    "plt.imshow(X_train_combined_binary[202], cmap = 'binary')"
   ]
  },
  {
   "cell_type": "code",
   "execution_count": null,
   "id": "a2b8443a",
   "metadata": {
    "id": "a2b8443a"
   },
   "outputs": [],
   "source": [
    "predictions = model.predict([X_train_combined_binary])\n",
    "print(np.argmax(predictions[252]))\n",
    "plt.imshow(X_train_combined_binary[252], cmap = 'binary')"
   ]
  },
  {
   "cell_type": "code",
   "execution_count": null,
   "id": "42129deb",
   "metadata": {
    "id": "42129deb"
   },
   "outputs": [],
   "source": [
    "predictions = model.predict([X_train_combined_binary])\n",
    "print(np.argmax(predictions[302]))\n",
    "plt.imshow(X_train_combined_binary[302], cmap = 'binary')"
   ]
  },
  {
   "cell_type": "code",
   "execution_count": null,
   "id": "424102d2",
   "metadata": {
    "id": "424102d2"
   },
   "outputs": [],
   "source": [
    "predictions = model.predict([X_train_combined_binary])\n",
    "print(np.argmax(predictions[352]))\n",
    "plt.imshow(X_train_combined_binary[352], cmap = 'binary')"
   ]
  },
  {
   "cell_type": "code",
   "execution_count": null,
   "id": "cb366e2a",
   "metadata": {
    "id": "cb366e2a"
   },
   "outputs": [],
   "source": [
    "predictions = model.predict([X_train_combined_binary])\n",
    "print(np.argmax(predictions[402]))\n",
    "plt.imshow(X_train_combined_binary[402], cmap = 'binary')"
   ]
  },
  {
   "cell_type": "code",
   "execution_count": null,
   "id": "60d193b1",
   "metadata": {
    "id": "60d193b1"
   },
   "outputs": [],
   "source": [
    "predictions = model.predict([X_train_combined_binary])\n",
    "print(np.argmax(predictions[452]))\n",
    "plt.imshow(X_train_combined_binary[452], cmap = 'binary')"
   ]
  }
 ],
 "metadata": {
  "colab": {
   "collapsed_sections": [],
   "name": "Nyoba_3-Copy2 (1).ipynb",
   "provenance": []
  },
  "kernelspec": {
   "display_name": "Python 3 (ipykernel)",
   "language": "python",
   "name": "python3"
  },
  "language_info": {
   "codemirror_mode": {
    "name": "ipython",
    "version": 3
   },
   "file_extension": ".py",
   "mimetype": "text/x-python",
   "name": "python",
   "nbconvert_exporter": "python",
   "pygments_lexer": "ipython3",
   "version": "3.9.7"
  }
 },
 "nbformat": 4,
 "nbformat_minor": 5
}
