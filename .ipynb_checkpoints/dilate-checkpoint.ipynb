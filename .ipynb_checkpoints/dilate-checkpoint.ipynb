{
 "cells": [
  {
   "cell_type": "code",
   "execution_count": 16,
   "metadata": {},
   "outputs": [],
   "source": [
    "# Python program to demonstrate erosion and\n",
    "# dilation of images.\n",
    "import cv2\n",
    "import numpy as np\n",
    "import matplotlib.pyplot as plt\n",
    "import os\n",
    "\n",
    "numbers = os.listdir(\"dataset_copy\")"
   ]
  },
  {
   "cell_type": "code",
   "execution_count": null,
   "metadata": {},
   "outputs": [],
   "source": [
    "for number in numbers:\n",
    "    images = os.listdir(f\"dataset_copy/{number}\")\n",
    "    for image in images:\n",
    "        img = cv2.imread(f\"dataset_copy/{number}/{image}\", 0)\n",
    "        kernel = np.ones((5,5), np.uint8)\n",
    "        img_dilation = cv2.dilate(img, kernel, iterations=12)\n",
    "        img_dilation = cv2.resize(img_dilation, (28,28))\n",
    "        plt.imshow(img_dilation, cmap = 'gray')\n",
    "        cv2.imwrite(f\"dataset_copy/{number}/{image}\",img_dilation)"
   ]
  },
  {
   "cell_type": "code",
   "execution_count": null,
   "metadata": {},
   "outputs": [],
   "source": [
    "# Reading the input image\n"
   ]
  }
 ],
 "metadata": {
  "interpreter": {
   "hash": "3538665ed9ced65286b5595d24ab2321d569ff1bdb96c99d1461a99b1f54f8fd"
  },
  "kernelspec": {
   "display_name": "Python 3 (ipykernel)",
   "language": "python",
   "name": "python3"
  },
  "language_info": {
   "codemirror_mode": {
    "name": "ipython",
    "version": 3
   },
   "file_extension": ".py",
   "mimetype": "text/x-python",
   "name": "python",
   "nbconvert_exporter": "python",
   "pygments_lexer": "ipython3",
   "version": "3.9.7"
  }
 },
 "nbformat": 4,
 "nbformat_minor": 2
}
