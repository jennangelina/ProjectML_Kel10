{
 "cells": [
  {
   "cell_type": "markdown",
   "id": "8a49eae8",
   "metadata": {
    "id": "gvZulGKM8UIF"
   },
   "source": [
    "# Import Library"
   ]
  },
  {
   "cell_type": "code",
   "execution_count": 94,
   "id": "76302442",
   "metadata": {
    "id": "e02c327e"
   },
   "outputs": [],
   "source": [
    "import tensorflow as tf # model deep learning\n",
    "import numpy as np # aljabar linear\n",
    "import matplotlib.pyplot as plt # Data Visualization\n",
    "\n",
    "mnist = tf.keras.datasets.mnist # Import Dataset from keras\n",
    "(x_train, y_train),(x_test, y_test) = mnist.load_data() # membagi data ke data latih dan data uji"
   ]
  },
  {
   "cell_type": "code",
   "execution_count": 95,
   "id": "83df7e78",
   "metadata": {
    "id": "2c14f007",
    "outputId": "5f541078-45a1-4813-a037-85f0d7055a4d"
   },
   "outputs": [
    {
     "data": {
      "text/plain": [
       "(60000, 28, 28)"
      ]
     },
     "execution_count": 95,
     "metadata": {},
     "output_type": "execute_result"
    }
   ],
   "source": [
    "x_train.shape #60000 -> jumlah data, 28x28 -> dimensi array"
   ]
  },
  {
   "cell_type": "code",
   "execution_count": 96,
   "id": "f801e7fa",
   "metadata": {
    "id": "0ab0c09d",
    "outputId": "94b961a4-234f-4fca-beee-58e35542eb30"
   },
   "outputs": [
    {
     "data": {
      "text/plain": [
       "(60000,)"
      ]
     },
     "execution_count": 96,
     "metadata": {},
     "output_type": "execute_result"
    }
   ],
   "source": [
    "y_train.shape #60000 -> mempunyai 60000 data"
   ]
  },
  {
   "cell_type": "code",
   "execution_count": 97,
   "id": "8b6a886d",
   "metadata": {
    "id": "d2e02103",
    "outputId": "c312a5fe-cd77-4d65-a180-639ac40452d3"
   },
   "outputs": [
    {
     "data": {
      "image/png": "[encoded data removed]",
      "text/plain": [
       "<Figure size 432x288 with 1 Axes>"
      ]
     },
     "metadata": {
      "needs_background": "light"
     },
     "output_type": "display_data"
    },
    {
     "name": "stdout",
     "output_type": "stream",
     "text": [
      "3\n"
     ]
    }
   ],
   "source": [
    "plt.imshow(x_train[12]) # ingin menampilkan gambar dalam data uji pada index 12\n",
    "plt.show() # menampilkan gambar\n",
    "\n",
    "print(y_train[12]) # print data train index-12"
   ]
  },
  {
   "cell_type": "code",
   "execution_count": 98,
   "id": "eb883903",
   "metadata": {},
   "outputs": [],
   "source": [
    "import os\n",
    "import cv2\n",
    "from PIL import Image\n",
    "from PIL import ImageChops"
   ]
  },
  {
   "cell_type": "code",
   "execution_count": 99,
   "id": "8baa6042",
   "metadata": {},
   "outputs": [],
   "source": [
    "IMG_SIZE = 28"
   ]
  },
  {
   "cell_type": "code",
   "execution_count": 100,
   "id": "5428c69f",
   "metadata": {},
   "outputs": [],
   "source": [
    "# numbers = os.listdir(\"dataset_4\")"
   ]
  },
  {
   "cell_type": "code",
   "execution_count": 101,
   "id": "8e330320",
   "metadata": {},
   "outputs": [],
   "source": [
    "# for number in numbers:\n",
    "#     images = os.listdir(f\"dataset_4/{number}\")\n",
    "#     for image in images:\n",
    "#         img = Image.open(f\"dataset_4/{number}/{image}\")\n",
    "#         inverted_image = ImageChops.invert(img)\n",
    "#         plt.imshow(inverted_image)\n",
    "#         inverted_image.save(f\"dataset_dilate4/{number}/{image}\") "
   ]
  },
  {
   "cell_type": "code",
   "execution_count": 102,
   "id": "86e60326",
   "metadata": {},
   "outputs": [],
   "source": [
    "# numbers = os.listdir(\"dataset_dilate4\")"
   ]
  },
  {
   "cell_type": "code",
   "execution_count": 103,
   "id": "a3082e0c",
   "metadata": {},
   "outputs": [],
   "source": [
    "# for number in numbers:\n",
    "#     images = os.listdir(f\"dataset_dilate4/{number}\")\n",
    "#     for image in images:\n",
    "#         img = cv2.imread(f\"dataset_dilate4/{number}/{image}\", 0)\n",
    "#         kernel = np.ones((5,5), np.uint8)\n",
    "#         img_dilation = cv2.dilate(img, kernel, iterations=1)\n",
    "#         img_dilation = cv2.resize(img_dilation, (28,28))\n",
    "#         plt.imshow(img_dilation, cmap = 'gray')\n",
    "#         cv2.imwrite(f\"dataset_dilate_4/{number}/{image}\",img_dilation)"
   ]
  },
  {
   "cell_type": "code",
   "execution_count": 104,
   "id": "10400a20",
   "metadata": {},
   "outputs": [],
   "source": [
    "# numbers = os.listdir(\"dataset_dilate\")"
   ]
  },
  {
   "cell_type": "code",
   "execution_count": 105,
   "id": "78a1058f",
   "metadata": {},
   "outputs": [],
   "source": [
    "# for number in numbers:\n",
    "#     images = os.listdir(f\"dataset_dilate/{number}\")\n",
    "#     for image in images:\n",
    "#         img = cv2.imread(f\"dataset_dilate/{number}/{image}\", 0)\n",
    "#         kernel = np.ones((5,5), np.uint8)\n",
    "#         img_dilation = cv2.dilate(img, kernel, iterations=12)\n",
    "#         img_dilation = cv2.resize(img_dilation, (28,28))\n",
    "#         plt.imshow(img_dilation, cmap = 'gray')\n",
    "#         cv2.imwrite(f\"dataset_dilate/{number}/{image}\",img_dilation)"
   ]
  },
  {
   "cell_type": "code",
   "execution_count": 110,
   "id": "b095d18f",
   "metadata": {},
   "outputs": [
    {
     "data": {
      "image/png": "[encoded data removed]",
      "text/plain": [
       "<Figure size 432x288 with 1 Axes>"
      ]
     },
     "metadata": {
      "needs_background": "light"
     },
     "output_type": "display_data"
    }
   ],
   "source": [
    "DATADIR = \"C:/Users/ACER/Documents/MNIST/dataset_dilate\"\n",
    "CATEGORIES = [\"0\", \"1\", \"2\", \"3\", \"4\", \"5\", \"6\", \"7\", \"8\", \"9\"]\n",
    "\n",
    "for category in CATEGORIES:\n",
    "    path = os.path.join(DATADIR, category)\n",
    "    for img in os.listdir(path):\n",
    "        img_array = cv2.imread(os.path.join(path,img), cv2.IMREAD_GRAYSCALE)\n",
    "        plt.imshow(img_array, cmap=\"gray\")\n",
    "        plt.show()\n",
    "        break\n",
    "    break"
   ]
  },
  {
   "cell_type": "code",
   "execution_count": 111,
   "id": "40b55e4a",
   "metadata": {},
   "outputs": [
    {
     "name": "stdout",
     "output_type": "stream",
     "text": [
      "[[  2   0   1   0   0   0   3   0   0   0   0   0   1   0   1   0   1   0\n",
      "    0   2   0   0   2   0   2   3   9  13]\n",
      " [  0   4   0   3   1   0   1   0   1   2   0   0   0   0   0   2   0   0\n",
      "    1   2   0   0   0   1   2   4  10  14]\n",
      " [  2   0   0   0   0   2   1   1   2   0   0   2   0   4   0   0   0   2\n",
      "    1   0   0   2   3   0   2   4  11  16]\n",
      " [  1   0   1   0   2   0   0   0   0   3   0   2   1   0   3   0   3   0\n",
      "    0   0   0   0   0   0   2   5  12  17]\n",
      " [  0   0   1   1   0   2   1   1   0   1   2 226 254 255 255 251 254 255\n",
      "    2   1   1   1   0   1   1   4  12  17]\n",
      " [  1   1   0   0   5   0   0   1   0 124 255 253 255 254 254 255 253 255\n",
      "  255 248   3   0   0   3   1   4  12  17]\n",
      " [  1   2   0   1   0   0   0   1 255 253 254 255 253   8   0   0   5 253\n",
      "  255 255  22   2   0   0   1   4  12  17]\n",
      " [  0   0   1   0   0   1   1 250 255 251 255   0   0   0   1   2   1   0\n",
      "  253 254 255   0   2   0   1   5  12  17]\n",
      " [  0   3   0   0   1   0   2 255 255 255   2   0   0   3   0   0   0   0\n",
      "    0 255 253  47   0   0   1   4  12  17]\n",
      " [  1   0   1   3   0   2 254 254 255   0   0   0   0   0   1   3   1   0\n",
      "    0 251 254 252   2   0   1   4  12  17]\n",
      " [  0   0   0   0   0   0 255 255   0   3   1   0   6   0   0   3   0   2\n",
      "    1   0 255 255   0   0   1   4  12  17]\n",
      " [  0   1   0   0   0 254 255 251   0   0   1   0   0   1   3   0   2   0\n",
      "    0   0 255 254   2   0   1   4  12  17]\n",
      " [  0   1   0   4   0 255 254   7   1   0   0   0   3   0   0   0   0   0\n",
      "    4   1 255 255   1   0   1   4  12  17]\n",
      " [  0   2   3   0   1 255 253   0   0   0   1   1   0   0   1   2   2   0\n",
      "    0   0 253 253   0   0   1   4  12  17]\n",
      " [  0   1   0   2   0 253 255   3   0   0   0   0   0   1   0   0   0   7\n",
      "    0   1 255 254   2   0   1   4  12  17]\n",
      " [  0   1   0   0   1 255 253   0   0   0   1   0   1   0   0   0   1   0\n",
      "    2   0 255 253   0   0   1   4  12  17]\n",
      " [  0   1   0   1   0 255 255   1   0   1   0   3   0   2   2   0   0   0\n",
      "    0 255 255 255   0   1   1   4  12  17]\n",
      " [  1   0   0   2   1 251 255   0   0   4   0   1   3   0   0   0   0   3\n",
      "    0 253 255   0   1   0   1   4  12  17]\n",
      " [  1   3   0   0   0 255 255 255   1   0   3   3   0   1   1   1   0   0\n",
      "  255 255 255   0   0   2   1   4  12  17]\n",
      " [  0   0   4   3   0   1 255 254 236   0   0   0   2   0   1   0   0   1\n",
      "  255 253  32   0   1   0   1   4  12  17]\n",
      " [  0   0   0   0   2   3 254 255 255  17   3   0   0   0   2   0   1 255\n",
      "  253 255   1   0   0   4   1   4  12  17]\n",
      " [  1   3   0   0   0   0   0 255 253 254 229   1   0   0   1   0 255 250\n",
      "  255   8   2   2   1   0   1   4  12  17]\n",
      " [  0   1   0   1   0   1   3   0 255 254 255 255 255   2 254 255 254 255\n",
      "    7   1   0   0   0   3   1   4  12  17]\n",
      " [  1   0   0   1   2   0   0   0   0 255 255 252 255 255 253 255 255   4\n",
      "    0   0   2   0   1   0   1   4  12  17]\n",
      " [  0   0   0   0   0   0   0   0   3   0   1   4 246 249 251   2   0   0\n",
      "    0   0   0   0   0   0   1   4  12  17]\n",
      " [  0   0   0   0   0   0   0   0   0   0   0   4   0   1   0   3   0   0\n",
      "    0   0   0   0   0   0   1   4  12  17]\n",
      " [  0   0   0   0   0   0   0   0   0   1   2   0   0   1   2   0   0   0\n",
      "    0   0   0   0   0   0   1   4  12  17]\n",
      " [  0   0   0   0   0   0   0   0   1   0   0   0   2   0   1   0   0   0\n",
      "    0   0   0   0   0   0   1   4  12  17]]\n"
     ]
    }
   ],
   "source": [
    "print(img_array)"
   ]
  },
  {
   "cell_type": "code",
   "execution_count": 112,
   "id": "250e1c43",
   "metadata": {},
   "outputs": [
    {
     "data": {
      "image/png": "[encoded data removed]",
      "text/plain": [
       "<Figure size 432x288 with 1 Axes>"
      ]
     },
     "metadata": {
      "needs_background": "light"
     },
     "output_type": "display_data"
    }
   ],
   "source": [
    "new_array = cv2.resize(img_array, (IMG_SIZE, IMG_SIZE))\n",
    "plt.imshow(new_array, cmap= 'gray')\n",
    "plt.show()"
   ]
  },
  {
   "cell_type": "code",
   "execution_count": 113,
   "id": "b074db64",
   "metadata": {},
   "outputs": [],
   "source": [
    "testing_data = [] # membuat data test untuk melakukan feature extraction\n",
    "\n",
    "def create_testing_data():\n",
    "    for category in CATEGORIES:\n",
    "        path = os.path.join(DATADIR, category)\n",
    "        class_num = CATEGORIES.index(category)\n",
    "        for img in os.listdir(path):\n",
    "            try:\n",
    "                img_array = cv2.imread(os.path.join(path,img), cv2.IMREAD_GRAYSCALE)\n",
    "                new_array = cv2.resize(img_array, (IMG_SIZE, IMG_SIZE))\n",
    "                testing_data.append([new_array, class_num])\n",
    "            except Exception as e:\n",
    "                pass\n",
    "                                       \n",
    "create_testing_data()     "
   ]
  },
  {
   "cell_type": "code",
   "execution_count": 114,
   "id": "7a542c68",
   "metadata": {},
   "outputs": [
    {
     "name": "stdout",
     "output_type": "stream",
     "text": [
      "500\n"
     ]
    }
   ],
   "source": [
    "print(len(testing_data))"
   ]
  },
  {
   "cell_type": "code",
   "execution_count": 115,
   "id": "220753fd",
   "metadata": {},
   "outputs": [],
   "source": [
    "X_test = []\n",
    "Y_test = []"
   ]
  },
  {
   "cell_type": "code",
   "execution_count": 116,
   "id": "08291b41",
   "metadata": {},
   "outputs": [],
   "source": [
    "for features, label in testing_data: #melakukan feature extraction untuk data test\n",
    "    X_test.append(features)\n",
    "    Y_test.append(label)"
   ]
  },
  {
   "cell_type": "code",
   "execution_count": 117,
   "id": "204a0a2f",
   "metadata": {},
   "outputs": [
    {
     "name": "stdout",
     "output_type": "stream",
     "text": [
      "[[  0   0   1   0   1   3   0   1   0   1   0   0   0   1   1   0   0   0\n",
      "    0   0   0   2   0   1   0   0   0   0]\n",
      " [  0   3   0   0   1   0   3   0   1   0   0   0   6   0   0   0   0   1\n",
      "    2   0   2   0   0   2   0   0   0   0]\n",
      " [  0   0   0   1   0   0   1   1   0   2   1   0   0   0   0   2   0   0\n",
      "    0   1   0   0   2   0   0   0   0   0]\n",
      " [  1   4   0   0   1   0   3   0   0   6 254 255 253 255 255 253   9   0\n",
      "    2   1   1   0   3   0   0   0   0   0]\n",
      " [  1   0   0   0   3   0   0   1  12 254 255 255 255 255 255 254 252 255\n",
      "    0   0   2   2   0   0   0   0   0   0]\n",
      " [  0   1   3   0   0   0   0 255 255 251 255 250 254 255 252 255 255 253\n",
      "  255   7   0   1   0   1   0   0   0   0]\n",
      " [  1   0   3   0   1   3 255 252 255 252 255 255 255   0   3 255 254 255\n",
      "  253 255   2   0   1   0   0   0   0   0]\n",
      " [  2   0   0   3   0  46 255 255 254 255   0   0   1   1   0   0  56 253\n",
      "  255 253 239   2   0   1   0   0   0   0]\n",
      " [  1   0   2   0   0 255 255 255 255   1   0   0   2   0   0   1   0 254\n",
      "  255 255 255   0   0   4   0   0   0   0]\n",
      " [  0   0   0   0   3 255 252 255   1   1   0   0   0   1   3   0   0   0\n",
      "  253 255 255   4   0   0   0   0   0   0]\n",
      " [  2   0   2   0 255 255 255 215   0   0   0   4   0   0   2   0   2   0\n",
      "  208 253 255 254   4   0   0   0   0   0]\n",
      " [  0   5   0   0 255 255 255   0   1   1   2   0   1   0   0   0   0   0\n",
      "    1 255 255 254   2   0   0   0   0   0]\n",
      " [  1   0   1   1 255 253 255   3   0   0   0   2   0   0   0   2   3   0\n",
      "    1 254 253 255   0   2   0   0   0   0]\n",
      " [  4   0   0   0 252 255 255   0   2   1   1   0   0   1   0   2   0   3\n",
      "    1 255 255 255   0   0   0   0   0   0]\n",
      " [  0   3   1   3 254 255 174   0   0   2   0   0   3   0   5   0   2   1\n",
      "    0 189 255 254   0   2   0   0   0   0]\n",
      " [  1   0   0   0 254 255   7   1   0   3   0   0   0   1   0   1   0   1\n",
      "    0   5 254 255   0   0   0   0   0   0]\n",
      " [  1   2   0   1 255 255  47   2   0   0   0   0   0   1   0   2   0   2\n",
      "    0   0 255 253   0   0   0   0   0   0]\n",
      " [  0   2   1   2 253 255 255   0   0   0   4   0   0   1   1   0   1   2\n",
      "    0   0 255 253   0   1   0   0   0   0]\n",
      " [  6   0   0   1 254 255 255   0   0   1   0   0   0   3   0   1   1   0\n",
      "    4   1 255 255   2   0   0   0   0   0]\n",
      " [  0   2   0   0 255 255 255 253   0   2   0   0   2   0   0   2   1   3\n",
      "    0  47 254 254   3   0   0   0   0   0]\n",
      " [  2   0   0   0  95 253 255 255   7   0   0   4   0   0   0   1   0   0\n",
      "    0 252 255 255   0   1   0   0   0   0]\n",
      " [  0   0   2   0   0 255 254 255 254   0   2   0   0   2   1   0   0   0\n",
      "    3 255 253 255   2   0   0   0   0   0]\n",
      " [  0   4   0   2   1   7 254 255 255 255   0   0   1   0   3   1   0   0\n",
      "  255 250 255 254   0   0   0   0   0   0]\n",
      " [  0   0   0   0   2   0 255 254 255 252 255 254   0   2   0   0   1 255\n",
      "  253 255 254   9   0   0   0   0   0   0]\n",
      " [  1   0   0   1   0   0   0 240 255 255 252 255 255 252 255 255 255 254\n",
      "  254 255 255   1   0   1   0   0   0   0]\n",
      " [  0   0   0   1   0   2   1   0   2 255 255 255 255 254 255 255 250 255\n",
      "  255 254   0   1   1   1   0   0   0   0]\n",
      " [  1   0   0   0   4   0   0   1   2   0   1 255 254 255 255 255 255 255\n",
      "   10   0   0   0   0   1   0   0   0   0]\n",
      " [  0   0   3   1   0   3   1   1   2   0   4   0   0   0   2   2   0   4\n",
      "    0   1   0   4   0   0   1   1   1   1]]\n"
     ]
    }
   ],
   "source": [
    "print(X_test[1])"
   ]
  },
  {
   "cell_type": "code",
   "execution_count": 118,
   "id": "64112dcc",
   "metadata": {},
   "outputs": [],
   "source": [
    "# Punya kelompok 10\n",
    "X_test = np.array(X_test)\n",
    "Y_test = np.array(Y_test)"
   ]
  },
  {
   "cell_type": "code",
   "execution_count": 119,
   "id": "e2f67e5e",
   "metadata": {},
   "outputs": [
    {
     "data": {
      "text/plain": [
       "(60000, 28, 28)"
      ]
     },
     "execution_count": 119,
     "metadata": {},
     "output_type": "execute_result"
    }
   ],
   "source": [
    "x_train.shape"
   ]
  },
  {
   "cell_type": "code",
   "execution_count": 120,
   "id": "cd94791f",
   "metadata": {},
   "outputs": [
    {
     "data": {
      "text/plain": [
       "(500, 28, 28)"
      ]
     },
     "execution_count": 120,
     "metadata": {},
     "output_type": "execute_result"
    }
   ],
   "source": [
    "X_test.shape"
   ]
  },
  {
   "cell_type": "code",
   "execution_count": 123,
   "id": "f83f53db",
   "metadata": {},
   "outputs": [],
   "source": [
    "x_train_combined = np.concatenate((x_train, X_test))\n",
    "y_train_combined = np.concatenate((y_train, Y_test))"
   ]
  },
  {
   "cell_type": "code",
   "execution_count": 124,
   "id": "e4714569",
   "metadata": {},
   "outputs": [
    {
     "data": {
      "text/plain": [
       "(60500, 28, 28)"
      ]
     },
     "execution_count": 124,
     "metadata": {},
     "output_type": "execute_result"
    }
   ],
   "source": [
    "x_train_combined.shape"
   ]
  },
  {
   "cell_type": "code",
   "execution_count": 125,
   "id": "f4f64ee9",
   "metadata": {},
   "outputs": [
    {
     "data": {
      "text/plain": [
       "(500, 28, 28)"
      ]
     },
     "execution_count": 125,
     "metadata": {},
     "output_type": "execute_result"
    }
   ],
   "source": [
    "X_test.shape"
   ]
  },
  {
   "cell_type": "code",
   "execution_count": 126,
   "id": "d0066c75",
   "metadata": {},
   "outputs": [
    {
     "data": {
      "text/plain": [
       "(60000, 28, 28)"
      ]
     },
     "execution_count": 126,
     "metadata": {},
     "output_type": "execute_result"
    }
   ],
   "source": [
    "x_train.shape"
   ]
  },
  {
   "cell_type": "code",
   "execution_count": 127,
   "id": "de8f00ac",
   "metadata": {},
   "outputs": [
    {
     "name": "stdout",
     "output_type": "stream",
     "text": [
      "500\n"
     ]
    }
   ],
   "source": [
    "print(len(Y_test))"
   ]
  },
  {
   "cell_type": "code",
   "execution_count": 128,
   "id": "86e8cc02",
   "metadata": {},
   "outputs": [
    {
     "name": "stdout",
     "output_type": "stream",
     "text": [
      "60000\n"
     ]
    }
   ],
   "source": [
    "print(len(y_train))"
   ]
  },
  {
   "cell_type": "code",
   "execution_count": 131,
   "id": "270b483b",
   "metadata": {},
   "outputs": [
    {
     "name": "stdout",
     "output_type": "stream",
     "text": [
      "0\n"
     ]
    }
   ],
   "source": [
    "print(y_train_combined[60000])"
   ]
  },
  {
   "cell_type": "markdown",
   "id": "49e6493a",
   "metadata": {
    "id": "D6Ix-WzO-akW"
   },
   "source": [
    "# Normalisasi"
   ]
  },
  {
   "cell_type": "code",
   "execution_count": 132,
   "id": "561432f0",
   "metadata": {
    "id": "57110edb"
   },
   "outputs": [],
   "source": [
    "# normalisasi -> mengubah intensitas pixel \n",
    "x_train = tf.keras.utils.normalize(x_train_combined, axis=1) # mengubah pixel menjadi bentuk desimal agar model lebih mudah untuk mengenali data uji dan data latih\n",
    "x_test = tf.keras.utils.normalize(x_train_combined, axis=1) # mengubah pixel menjadi bentuk desimal agar model lebih mudah untuk mengenali data uji dan data latih\n",
    "#range pixel lebih rata"
   ]
  },
  {
   "cell_type": "code",
   "execution_count": 133,
   "id": "ef4d4588",
   "metadata": {
    "id": "ed25361e",
    "outputId": "f19e8043-eb6f-48d6-a177-a77259bae30d"
   },
   "outputs": [
    {
     "name": "stdout",
     "output_type": "stream",
     "text": [
      "[[0.         0.         0.         0.         0.         0.\n",
      "  0.         0.         0.         0.         0.         0.\n",
      "  0.         0.         0.         0.         0.         0.\n",
      "  0.         0.         0.         0.         0.         0.\n",
      "  0.         0.         0.         0.        ]\n",
      " [0.         0.         0.         0.         0.         0.\n",
      "  0.         0.         0.         0.         0.         0.\n",
      "  0.         0.         0.         0.         0.         0.\n",
      "  0.         0.         0.         0.         0.         0.\n",
      "  0.         0.         0.         0.        ]\n",
      " [0.         0.         0.         0.         0.         0.\n",
      "  0.         0.         0.         0.         0.         0.\n",
      "  0.         0.         0.         0.         0.         0.\n",
      "  0.         0.         0.         0.         0.         0.\n",
      "  0.         0.         0.         0.        ]\n",
      " [0.         0.         0.         0.         0.         0.\n",
      "  0.         0.         0.         0.         0.         0.\n",
      "  0.         0.         0.         0.         0.         0.\n",
      "  0.         0.         0.         0.         0.         0.\n",
      "  0.         0.         0.         0.        ]\n",
      " [0.         0.         0.         0.         0.         0.\n",
      "  0.         0.         0.         0.         0.         0.\n",
      "  0.         0.         0.         0.         0.         0.\n",
      "  0.         0.         0.         0.         0.         0.\n",
      "  0.         0.         0.         0.        ]\n",
      " [0.         0.         0.         0.         0.         0.\n",
      "  0.         0.         0.         0.         0.         0.\n",
      "  0.00393124 0.02332955 0.02620568 0.02625207 0.17420356 0.17566281\n",
      "  0.28629534 0.05664824 0.51877786 0.71632322 0.77892406 0.89301644\n",
      "  0.         0.         0.         0.        ]\n",
      " [0.         0.         0.         0.         0.         0.\n",
      "  0.         0.         0.05780486 0.06524513 0.16128198 0.22713296\n",
      "  0.22277047 0.32790981 0.36833534 0.3689874  0.34978968 0.32678448\n",
      "  0.368094   0.3747499  0.79066747 0.67980478 0.61494005 0.45002403\n",
      "  0.         0.         0.         0.        ]\n",
      " [0.         0.         0.         0.         0.         0.\n",
      "  0.         0.12250613 0.45858525 0.45852825 0.43408872 0.37314701\n",
      "  0.33153488 0.32790981 0.36833534 0.3689874  0.34978968 0.32420121\n",
      "  0.15214552 0.17865984 0.25626376 0.1573102  0.12298801 0.\n",
      "  0.         0.         0.         0.        ]\n",
      " [0.         0.         0.         0.         0.         0.\n",
      "  0.         0.04500225 0.4219755  0.45852825 0.43408872 0.37314701\n",
      "  0.33153488 0.32790981 0.28826244 0.26543758 0.34149427 0.31128482\n",
      "  0.         0.         0.         0.         0.         0.\n",
      "  0.         0.         0.         0.        ]\n",
      " [0.         0.         0.         0.         0.         0.\n",
      "  0.         0.         0.1541463  0.28272888 0.18358693 0.37314701\n",
      "  0.33153488 0.26569767 0.01601458 0.         0.05945042 0.19891229\n",
      "  0.         0.         0.         0.         0.         0.\n",
      "  0.         0.         0.         0.        ]\n",
      " [0.         0.         0.         0.         0.         0.\n",
      "  0.         0.         0.         0.0253731  0.00171577 0.22713296\n",
      "  0.33153488 0.11664776 0.         0.         0.         0.\n",
      "  0.         0.         0.         0.         0.         0.\n",
      "  0.         0.         0.         0.        ]\n",
      " [0.         0.         0.         0.         0.         0.\n",
      "  0.         0.         0.         0.         0.         0.20500962\n",
      "  0.33153488 0.24625638 0.00291174 0.         0.         0.\n",
      "  0.         0.         0.         0.         0.         0.\n",
      "  0.         0.         0.         0.        ]\n",
      " [0.         0.         0.         0.         0.         0.\n",
      "  0.         0.         0.         0.         0.         0.01622378\n",
      "  0.24897876 0.32790981 0.10191096 0.         0.         0.\n",
      "  0.         0.         0.         0.         0.         0.\n",
      "  0.         0.         0.         0.        ]\n",
      " [0.         0.         0.         0.         0.         0.\n",
      "  0.         0.         0.         0.         0.         0.\n",
      "  0.04586451 0.31235677 0.32757096 0.23335172 0.14931733 0.00129164\n",
      "  0.         0.         0.         0.         0.         0.\n",
      "  0.         0.         0.         0.        ]\n",
      " [0.         0.         0.         0.         0.         0.\n",
      "  0.         0.         0.         0.         0.         0.\n",
      "  0.         0.10498298 0.34940902 0.3689874  0.34978968 0.15370495\n",
      "  0.04089933 0.         0.         0.         0.         0.\n",
      "  0.         0.         0.         0.        ]\n",
      " [0.         0.         0.         0.         0.         0.\n",
      "  0.         0.         0.         0.         0.         0.\n",
      "  0.         0.         0.06551419 0.27127137 0.34978968 0.32678448\n",
      "  0.245396   0.05882702 0.         0.         0.         0.\n",
      "  0.         0.         0.         0.        ]\n",
      " [0.         0.         0.         0.         0.         0.\n",
      "  0.         0.         0.         0.         0.         0.\n",
      "  0.         0.         0.         0.02333517 0.12857881 0.32549285\n",
      "  0.41390126 0.40743158 0.         0.         0.         0.\n",
      "  0.         0.         0.         0.        ]\n",
      " [0.         0.         0.         0.         0.         0.\n",
      "  0.         0.         0.         0.         0.         0.\n",
      "  0.         0.         0.         0.         0.         0.32161793\n",
      "  0.41390126 0.54251585 0.20001074 0.         0.         0.\n",
      "  0.         0.         0.         0.        ]\n",
      " [0.         0.         0.         0.         0.         0.\n",
      "  0.         0.         0.         0.         0.         0.\n",
      "  0.         0.         0.06697006 0.18959827 0.25300993 0.32678448\n",
      "  0.41390126 0.45100715 0.00625034 0.         0.         0.\n",
      "  0.         0.         0.         0.        ]\n",
      " [0.         0.         0.         0.         0.         0.\n",
      "  0.         0.         0.         0.         0.         0.\n",
      "  0.05110617 0.19182076 0.33339444 0.3689874  0.34978968 0.32678448\n",
      "  0.40899334 0.39653769 0.         0.         0.         0.\n",
      "  0.         0.         0.         0.        ]\n",
      " [0.         0.         0.         0.         0.         0.\n",
      "  0.         0.         0.         0.         0.04117838 0.16813739\n",
      "  0.28960162 0.32790981 0.36833534 0.3689874  0.34978968 0.25961929\n",
      "  0.12760592 0.         0.         0.         0.         0.\n",
      "  0.         0.         0.         0.        ]\n",
      " [0.         0.         0.         0.         0.         0.\n",
      "  0.         0.         0.04431706 0.11961607 0.36545809 0.37314701\n",
      "  0.33153488 0.32790981 0.36833534 0.28877275 0.111988   0.00258328\n",
      "  0.         0.         0.         0.         0.         0.\n",
      "  0.         0.         0.         0.        ]\n",
      " [0.         0.         0.         0.         0.         0.\n",
      "  0.05298497 0.42752138 0.4219755  0.45852825 0.43408872 0.37314701\n",
      "  0.33153488 0.25273681 0.11646967 0.01312603 0.         0.\n",
      "  0.         0.         0.         0.         0.         0.\n",
      "  0.         0.         0.         0.        ]\n",
      " [0.         0.         0.         0.         0.37491383 0.56222061\n",
      "  0.66525569 0.63253163 0.48748768 0.45852825 0.43408872 0.359873\n",
      "  0.17428513 0.01425695 0.         0.         0.         0.\n",
      "  0.         0.         0.         0.         0.         0.\n",
      "  0.         0.         0.         0.        ]\n",
      " [0.         0.         0.         0.         0.92705966 0.82698729\n",
      "  0.74473314 0.63253163 0.4084877  0.24466922 0.22648107 0.02359823\n",
      "  0.         0.         0.         0.         0.         0.\n",
      "  0.         0.         0.         0.         0.         0.\n",
      "  0.         0.         0.         0.        ]\n",
      " [0.         0.         0.         0.         0.         0.\n",
      "  0.         0.         0.         0.         0.         0.\n",
      "  0.         0.         0.         0.         0.         0.\n",
      "  0.         0.         0.         0.         0.         0.\n",
      "  0.         0.         0.         0.        ]\n",
      " [0.         0.         0.         0.         0.         0.\n",
      "  0.         0.         0.         0.         0.         0.\n",
      "  0.         0.         0.         0.         0.         0.\n",
      "  0.         0.         0.         0.         0.         0.\n",
      "  0.         0.         0.         0.        ]\n",
      " [0.         0.         0.         0.         0.         0.\n",
      "  0.         0.         0.         0.         0.         0.\n",
      "  0.         0.         0.         0.         0.         0.\n",
      "  0.         0.         0.         0.         0.         0.\n",
      "  0.         0.         0.         0.        ]]\n"
     ]
    }
   ],
   "source": [
    "print(x_train[0]) #menampilkan data sesudah dinormalisasi"
   ]
  },
  {
   "cell_type": "code",
   "execution_count": 134,
   "id": "aa349337",
   "metadata": {},
   "outputs": [],
   "source": [
    "from sklearn.model_selection import train_test_split\n",
    "\n",
    "X_train, X_test, y_train, y_test = train_test_split(x_train_combined, y_train_combined, test_size=0.2, random_state=42)"
   ]
  },
  {
   "cell_type": "code",
   "execution_count": 135,
   "id": "017d9f54",
   "metadata": {
    "id": "6176fcb6",
    "outputId": "aa255a14-705e-41b3-e56b-898eb7755c73"
   },
   "outputs": [
    {
     "name": "stdout",
     "output_type": "stream",
     "text": [
      "Training Samples Dimention:  (48400, 28, 28, 1)\n",
      "Testing Samples Dimention:  (12100, 28, 28, 1)\n"
     ]
    }
   ],
   "source": [
    "# me-reshape // mengubah image size agar bisa digunakan dalam operasi Convolution\n",
    "# untuk bisa kernel operation diperlukan 1 dimensi lagi\n",
    "\n",
    "IMG_SIZE=28 #ukuran gambar sebesar 28 pixel\n",
    "x_trainr = np.array(X_train).reshape(-1, IMG_SIZE, IMG_SIZE, 1) # menambah 1 dimensi untuk kernel operation pada data latih\n",
    "x_testr = np.array(X_test).reshape(-1, IMG_SIZE, IMG_SIZE, 1) # menambah 1 dimensi untuk kernel operation pada data uji\n",
    "print(\"Training Samples Dimention: \", x_trainr.shape) # menampilkan bentuk dari data X_train\n",
    "print(\"Testing Samples Dimention: \", x_testr.shape) # menampilkan bentuk dari data X_test"
   ]
  },
  {
   "cell_type": "markdown",
   "id": "6a77fad8",
   "metadata": {
    "id": "T6wIIOl--oje"
   },
   "source": [
    "# Membuat Model Deep Learning (CNN)"
   ]
  },
  {
   "cell_type": "code",
   "execution_count": 136,
   "id": "3301c878",
   "metadata": {
    "id": "af4548fa"
   },
   "outputs": [],
   "source": [
    "from tensorflow.keras.models import Sequential # mengimport Sequential untuk menjadi wadah membuat layer\n",
    "from tensorflow.keras.layers import Dense, Dropout, Activation, Flatten, Conv2D, MaxPooling2D # mengimport layers yang diperlukan"
   ]
  },
  {
   "cell_type": "code",
   "execution_count": 137,
   "id": "67093b88",
   "metadata": {
    "id": "791c3a2b"
   },
   "outputs": [],
   "source": [
    "model = Sequential() # membuat model\n",
    "\n",
    "#First layer\n",
    "model.add(Conv2D(16, (3,3), input_shape = x_trainr.shape[1:])) # menggunakan konvolusi 2 dimensi sebagai layer\n",
    "model.add(Activation(\"relu\")) # menggunakan fungsi aktivasi relu, untuk aktivin neuron\n",
    "model.add(MaxPooling2D(pool_size=(2,2)))  # melakukan pooling dalam bentuk 2 dimensi\n",
    "\n",
    "#Second layer\n",
    "model.add(Conv2D(32, (3,3))) # menggunakan konvolusi sebagai layer\n",
    "model.add(Activation(\"relu\")) # menggunakan fungsi aktivasi relu\n",
    "model.add(MaxPooling2D(pool_size=(2,2))) # melakukan pooling dalam bentuk 2 dimensi\n",
    "\n",
    "#Third layer\n",
    "model.add(Conv2D(64, (3,3))) # menggunakan konvolusi sebagai layer\n",
    "model.add(Activation(\"relu\")) # menggunakan fungsi aktivasi relu\n",
    "model.add(MaxPooling2D(pool_size=(2,2)))  # melakukan pooling dalam bentuk 2 dimensi\n",
    "\n",
    "#Fully connected layer # 1\n",
    "model.add(Flatten()) # di-flatten dari 2D ke 1D\n",
    "model.add(Dense(128)) # Hanya lapisan NN yang terhubung secara padat.\n",
    "model.add(Activation(\"relu\"))\n",
    "\n",
    "#Fully connected layer # 2\n",
    "model.add(Dense(64)) # Hanya lapisan NN yang terhubung secara padat.\n",
    "model.add(Activation(\"relu\"))\n",
    "model.add(Dropout(0.4))\n",
    "\n",
    "#Fully connected layer # 3\n",
    "model.add(Dense(10)) \n",
    "model.add(Activation('softmax'))"
   ]
  },
  {
   "cell_type": "code",
   "execution_count": 138,
   "id": "0baac155",
   "metadata": {
    "id": "c8ba8d01",
    "outputId": "04c58a8c-ccb1-4511-a924-4b4ac9164c67"
   },
   "outputs": [
    {
     "name": "stdout",
     "output_type": "stream",
     "text": [
      "Total training samples =  48400\n"
     ]
    }
   ],
   "source": [
    "print(\"Total training samples = \", len(x_trainr)) # menampilkan training sampel"
   ]
  },
  {
   "cell_type": "code",
   "execution_count": 140,
   "id": "a24ccceb",
   "metadata": {},
   "outputs": [
    {
     "data": {
      "text/plain": [
       "(48400, 28, 28, 1)"
      ]
     },
     "execution_count": 140,
     "metadata": {},
     "output_type": "execute_result"
    }
   ],
   "source": [
    "x_trainr.shape"
   ]
  },
  {
   "cell_type": "markdown",
   "id": "e5d2fef2",
   "metadata": {
    "id": "yVGAn9uPBYBq"
   },
   "source": [
    "# Preprocessing data sesudah membuat model"
   ]
  },
  {
   "cell_type": "code",
   "execution_count": 147,
   "id": "6a0fd914",
   "metadata": {
    "id": "163198bc",
    "outputId": "728f306d-1613-4944-fb9b-d6f9e4c98b68"
   },
   "outputs": [
    {
     "name": "stdout",
     "output_type": "stream",
     "text": [
      "2\n"
     ]
    },
    {
     "data": {
      "image/png": "[encoded data removed]",
      "text/plain": [
       "<Figure size 432x288 with 1 Axes>"
      ]
     },
     "metadata": {
      "needs_background": "light"
     },
     "output_type": "display_data"
    }
   ],
   "source": [
    "total_data = 30000\n",
    "x_train1 = np.ones((total_data,28,28,1))\n",
    "y_train1 = np.ones((total_data), dtype=int)\n",
    "\n",
    "count = 0\n",
    "pos = 0\n",
    "\n",
    "while count < (int(total_data/10)):\n",
    "    if y_train[pos] == 0:\n",
    "        x_train1[count] = x_trainr[pos] \n",
    "        y_train1[count] = y_train[pos] \n",
    "        count=count+1\n",
    "    pos=pos+1\n",
    "    \n",
    "count = 0\n",
    "pos = 0\n",
    "pos2 =int(total_data/10)\n",
    "    \n",
    "while count < (int(total_data/10)):\n",
    "    if y_train[pos] == 1:\n",
    "        x_train1[pos2] = x_trainr[pos] \n",
    "        y_train1[pos2] = y_train[pos] \n",
    "        count=count+1\n",
    "        pos2=pos2+1\n",
    "    pos=pos+1\n",
    "    \n",
    "count = 0\n",
    "pos = 0\n",
    "    \n",
    "while count < (int(total_data/10)):\n",
    "    if y_train[pos] == 2:\n",
    "        x_train1[pos2] = x_trainr[pos] \n",
    "        y_train1[pos2] = y_train[pos] \n",
    "        count=count+1\n",
    "        pos2=pos2+1\n",
    "    pos=pos+1\n",
    "    \n",
    "count = 0\n",
    "pos = 0\n",
    "    \n",
    "while count < (int(total_data/10)):\n",
    "    if y_train[pos] == 3:\n",
    "        x_train1[pos2] = x_trainr[pos] \n",
    "        y_train1[pos2] = y_train[pos] \n",
    "        count=count+1\n",
    "        pos2=pos2+1\n",
    "    pos=pos+1 \n",
    "    \n",
    "count = 0\n",
    "pos = 0\n",
    "    \n",
    "while count < (int(total_data/10)):\n",
    "    if y_train[pos] == 4:\n",
    "        x_train1[pos2] = x_trainr[pos] \n",
    "        y_train1[pos2] = y_train[pos] \n",
    "        count=count+1\n",
    "        pos2=pos2+1\n",
    "    pos=pos+1\n",
    "    \n",
    "count = 0\n",
    "pos = 0\n",
    "    \n",
    "while count < (int(total_data/10)):\n",
    "    if y_train[pos] == 5:\n",
    "        x_train1[pos2] = x_trainr[pos] \n",
    "        y_train1[pos2] = y_train[pos] \n",
    "        count=count+1\n",
    "        pos2=pos2+1\n",
    "    pos=pos+1\n",
    "    \n",
    "count = 0\n",
    "pos = 0\n",
    "    \n",
    "while count < (int(total_data/10)):\n",
    "    if y_train[pos] == 6:\n",
    "        x_train1[pos2] = x_trainr[pos] \n",
    "        y_train1[pos2] = y_train[pos] \n",
    "        count=count+1\n",
    "        pos2=pos2+1\n",
    "    pos=pos+1\n",
    "    \n",
    "count = 0\n",
    "pos = 0\n",
    "    \n",
    "while count < (int(total_data/10)):\n",
    "    if y_train[pos] == 7:\n",
    "        x_train1[pos2] = x_trainr[pos] \n",
    "        y_train1[pos2] = y_train[pos] \n",
    "        count=count+1\n",
    "        pos2=pos2+1\n",
    "    pos=pos+1\n",
    "    \n",
    "count = 0\n",
    "pos = 0\n",
    "    \n",
    "while count < (int(total_data/10)):\n",
    "    if y_train[pos] == 8:\n",
    "        x_train1[pos2] = x_trainr[pos] \n",
    "        y_train1[pos2] = y_train[pos] \n",
    "        count=count+1\n",
    "        pos2=pos2+1\n",
    "    pos=pos+1\n",
    "    \n",
    "count = 0\n",
    "pos = 0\n",
    "    \n",
    "while count < (int(total_data/10)):\n",
    "    if y_train[pos] == 9:\n",
    "        x_train1[pos2] = x_trainr[pos] \n",
    "        y_train1[pos2] = y_train[pos] \n",
    "        count=count+1\n",
    "        pos2=pos2+1\n",
    "    pos=pos+1\n",
    "    \n",
    "# print(len(y_train1))\n",
    "# (y_train1 == 9).sum()\n",
    "print(y_train1[8928])\n",
    "plt.imshow(x_train1[8928].reshape(28,28), cmap = \"gray\")\n",
    "plt.show()"
   ]
  },
  {
   "cell_type": "code",
   "execution_count": 148,
   "id": "c5d08e95",
   "metadata": {
    "id": "0bc4d736"
   },
   "outputs": [],
   "source": [
    "training_data = [] # melakukan splitting data yang sudah dipreprocessing\n",
    "\n",
    "def create_training_data():\n",
    "    new_counter = 0\n",
    "    while new_counter < total_data:\n",
    "        training_data.append([x_train1[new_counter], y_train1[new_counter]])\n",
    "        new_counter = new_counter + 1\n",
    "\n",
    "create_training_data()"
   ]
  },
  {
   "cell_type": "code",
   "execution_count": 149,
   "id": "e208bc2e",
   "metadata": {
    "id": "65e547dc",
    "outputId": "4b5b9a2a-a45c-4785-f334-b5b16e669f1c"
   },
   "outputs": [
    {
     "name": "stdout",
     "output_type": "stream",
     "text": [
      "30000\n"
     ]
    }
   ],
   "source": [
    "print(len(training_data))"
   ]
  },
  {
   "cell_type": "code",
   "execution_count": 150,
   "id": "84ef2b05",
   "metadata": {
    "id": "07df75ac"
   },
   "outputs": [],
   "source": [
    "import random\n",
    "\n",
    "random.shuffle(training_data)"
   ]
  },
  {
   "cell_type": "code",
   "execution_count": 151,
   "id": "56bd8f15",
   "metadata": {
    "id": "182a26cf",
    "outputId": "0f1edfd8-7b3f-4329-c223-ca321b9c3e81"
   },
   "outputs": [
    {
     "name": "stdout",
     "output_type": "stream",
     "text": [
      "7\n",
      "1\n",
      "1\n",
      "9\n",
      "7\n",
      "4\n",
      "4\n",
      "0\n",
      "0\n",
      "9\n"
     ]
    }
   ],
   "source": [
    "for sample in training_data[:10]:\n",
    "    print(sample[1])"
   ]
  },
  {
   "cell_type": "code",
   "execution_count": 152,
   "id": "ee4cd413",
   "metadata": {
    "id": "6807c1a6"
   },
   "outputs": [],
   "source": [
    "X_training = []\n",
    "Y_training = []"
   ]
  },
  {
   "cell_type": "code",
   "execution_count": 153,
   "id": "04748363",
   "metadata": {
    "id": "772d65c1"
   },
   "outputs": [],
   "source": [
    "for features, label in training_data: # feature extraction pada data latih\n",
    "    X_training.append(features)\n",
    "    Y_training.append(label)\n",
    "    \n",
    "X_training = np.array(X_training).reshape(-1, IMG_SIZE, IMG_SIZE, 1) #resize"
   ]
  },
  {
   "cell_type": "code",
   "execution_count": 154,
   "id": "6b967692",
   "metadata": {
    "id": "ba6da374"
   },
   "outputs": [],
   "source": [
    "Y_training = np.array(Y_training) # array biasa jadi numpy array"
   ]
  },
  {
   "cell_type": "code",
   "execution_count": 156,
   "id": "eacefc19",
   "metadata": {
    "id": "656f7e33",
    "outputId": "569089f3-3d1a-448d-d441-b40358b8f89a"
   },
   "outputs": [
    {
     "data": {
      "image/png": "[encoded data removed]",
      "text/plain": [
       "<Figure size 432x288 with 1 Axes>"
      ]
     },
     "metadata": {
      "needs_background": "light"
     },
     "output_type": "display_data"
    }
   ],
   "source": [
    "plt.imshow(X_training[12].reshape(28,28))\n",
    "plt.show()"
   ]
  },
  {
   "cell_type": "code",
   "execution_count": 157,
   "id": "0508fbf0",
   "metadata": {
    "id": "bead9cdd",
    "outputId": "b5e34b8d-a0c6-453e-95e6-45fd5f641565"
   },
   "outputs": [
    {
     "name": "stdout",
     "output_type": "stream",
     "text": [
      "1\n"
     ]
    }
   ],
   "source": [
    "print(Y_training[12])"
   ]
  },
  {
   "cell_type": "markdown",
   "id": "8c1bce19",
   "metadata": {
    "id": "XPFxQEx8CQPp"
   },
   "source": [
    "# Melakukan Training atau fitting model"
   ]
  },
  {
   "cell_type": "code",
   "execution_count": 158,
   "id": "12c19009",
   "metadata": {
    "id": "d9499c33"
   },
   "outputs": [],
   "source": [
    "model.compile(loss=\"sparse_categorical_crossentropy\", optimizer=\"adam\", metrics=['accuracy'])"
   ]
  },
  {
   "cell_type": "code",
   "execution_count": 159,
   "id": "c8953e32",
   "metadata": {},
   "outputs": [],
   "source": [
    "# use checkpoint to save best loss\n",
    "cp_callback = tf.keras.callbacks.ModelCheckpoint(filepath='checkpoint.h5',save_best_only=True, save_weights_only=True, verbose=1)"
   ]
  },
  {
   "cell_type": "code",
   "execution_count": null,
   "id": "0b7edd50",
   "metadata": {
    "id": "6806b175",
    "outputId": "47ef4b25-01d5-4518-b02b-b1ebb7253f89"
   },
   "outputs": [
    {
     "name": "stdout",
     "output_type": "stream",
     "text": [
      "Epoch 1/20\n",
      "750/750 [==============================] - 26s 33ms/step - loss: 0.8765 - accuracy: 0.7624 - val_loss: 0.2379 - val_accuracy: 0.9323\n",
      "\n",
      "Epoch 00001: val_loss improved from inf to 0.23788, saving model to checkpoint.h5\n",
      "Epoch 2/20\n",
      "750/750 [==============================] - 25s 33ms/step - loss: 0.2506 - accuracy: 0.9320 - val_loss: 0.1570 - val_accuracy: 0.9550\n",
      "\n",
      "Epoch 00002: val_loss improved from 0.23788 to 0.15704, saving model to checkpoint.h5\n",
      "Epoch 3/20\n",
      "303/750 [===========>..................] - ETA: 12s - loss: 0.1840 - accuracy: 0.9499"
     ]
    }
   ],
   "source": [
    "# Train data \n",
    "history = model.fit(X_training, Y_training, epochs= 20, validation_split = 0.2, callbacks = [cp_callback]) # melakukan training data "
   ]
  },
  {
   "cell_type": "code",
   "execution_count": null,
   "id": "88dd282c",
   "metadata": {},
   "outputs": [],
   "source": [
    "model.load_weights(\"checkpoint.h5\") # load checkpoint from file"
   ]
  },
  {
   "cell_type": "code",
   "execution_count": null,
   "id": "d6980c44",
   "metadata": {
    "id": "1f0fa9f1"
   },
   "outputs": [],
   "source": [
    "testing_binary_data = [] # memasukan data test dalam bentuk biner\n",
    "\n",
    "def create_testing_binary_data():\n",
    "    for category in CATEGORIES:\n",
    "        path = os.path.join(DATADIR, category)\n",
    "        class_num = CATEGORIES.index(category)\n",
    "        for img in os.listdir(path):\n",
    "            try:\n",
    "                img_array = cv2.imread(os.path.join(path,img), cv2.IMREAD_GRAYSCALE)\n",
    "                (thresh, im_bw) = cv2.threshold(img_array, 127, 255, cv2.THRESH_BINARY | cv2.THRESH_OTSU)\n",
    "                new_array = cv2.resize(im_bw, (IMG_SIZE, IMG_SIZE))\n",
    "                testing_binary_data.append([new_array, class_num])\n",
    "            except Exception as e:\n",
    "                pass\n",
    "                                       \n",
    "create_testing_binary_data()     "
   ]
  },
  {
   "cell_type": "code",
   "execution_count": null,
   "id": "73cd64d4",
   "metadata": {
    "id": "6a3aae06",
    "outputId": "6c39f61e-012c-44b6-8570-cb779d4dc1d9"
   },
   "outputs": [],
   "source": [
    "print(len(testing_binary_data))"
   ]
  },
  {
   "cell_type": "code",
   "execution_count": null,
   "id": "aa259d72",
   "metadata": {
    "id": "e475584b"
   },
   "outputs": [],
   "source": [
    "X_binary_test = [] # data x test dalam bentuk biner\n",
    "Y_binary_test = [] # data y test dalam bentuk biner"
   ]
  },
  {
   "cell_type": "code",
   "execution_count": null,
   "id": "a61c758b",
   "metadata": {
    "id": "d56cf88c"
   },
   "outputs": [],
   "source": [
    "for features, label in testing_binary_data: # memasukan fitur dan lebel dalam data uji biner\n",
    "    X_binary_test.append(features)\n",
    "    Y_binary_test.append(label)\n",
    "    \n",
    "X_binary_test = np.array(X_binary_test).reshape(-1, IMG_SIZE, IMG_SIZE, 1)\n",
    "Y_binary_test = np.array(Y_binary_test)"
   ]
  },
  {
   "cell_type": "markdown",
   "id": "1f2d4706",
   "metadata": {
    "id": "ibU1IScnEqFi"
   },
   "source": [
    "# Test Accuracy"
   ]
  },
  {
   "cell_type": "code",
   "execution_count": null,
   "id": "9d8384cc",
   "metadata": {
    "id": "93f3139b",
    "outputId": "d46dd414-d720-4289-8e0f-f975c406ef4a"
   },
   "outputs": [],
   "source": [
    "# check grayscale data accuracy\n",
    "\n",
    "test_loss, test_acc = model.evaluate(X_test, Y_test, batch_size = 1) \n",
    "print(\"Test loss on test samples\", test_loss) # menampilkan akurasi loss dari data dalam bentuk grayscale\n",
    "print(\"Validation Accuracy on test samples\", test_acc) # menampilkan akurasi validasi dari data dalam bentuk grayscale"
   ]
  },
  {
   "cell_type": "code",
   "execution_count": null,
   "id": "c6932e64",
   "metadata": {
    "id": "e9184ef3",
    "outputId": "30bd35c2-da37-4f9f-dc57-e4ef5b3df180"
   },
   "outputs": [],
   "source": [
    "# check binary data accuracy\n",
    "\n",
    "test_loss, test_acc = model.evaluate(X_binary_test, Y_binary_test, batch_size = 1)\n",
    "print(\"Test loss on test samples\", test_loss) # menampilkan akurasi loss dari data dalam bentuk biner\n",
    "print(\"Validation Accuracy test samples\", test_acc) # menampilkan validasi akurasi dari data dalam bentuk biner"
   ]
  },
  {
   "cell_type": "code",
   "execution_count": null,
   "id": "3227f0f4",
   "metadata": {
    "id": "98a4a6f9"
   },
   "outputs": [],
   "source": [
    "import cv2"
   ]
  },
  {
   "cell_type": "code",
   "execution_count": null,
   "id": "b514153d",
   "metadata": {},
   "outputs": [],
   "source": [
    "img1 = cv2.imread(\"dataset_dilate/0/img (1).jpg\")\n",
    "plt.imshow(img1)\n",
    "\n",
    "gray = cv2.cvtColor(img1, cv2.COLOR_BGR2GRAY)\n",
    "resized = cv2.resize(gray, (28,28), interpolation = cv2.INTER_AREA)\n",
    "newing = tf.keras.utils.normalize (resized, axis=1)\n",
    "newing = np.array(newing).reshape(-1, IMG_SIZE, IMG_SIZE, 1)\n",
    "predictions = model.predict(newing)\n",
    "print(np.argmax(predictions))"
   ]
  },
  {
   "cell_type": "code",
   "execution_count": null,
   "id": "e4e4c5a1",
   "metadata": {
    "id": "6cdde6f0",
    "outputId": "56800ab7-619b-41af-dbb6-513a9acb1b4e"
   },
   "outputs": [],
   "source": [
    "img1 = cv2.imread(\"dataset_dilate/1/img (1).png\")\n",
    "plt.imshow(img1)\n",
    "\n",
    "gray = cv2.cvtColor(img1, cv2.COLOR_BGR2GRAY)\n",
    "resized = cv2.resize(gray, (28,28), interpolation = cv2.INTER_AREA)\n",
    "newing = tf.keras.utils.normalize (resized, axis=1)\n",
    "newing = np.array(newing).reshape(-1, IMG_SIZE, IMG_SIZE, 1)\n",
    "predictions = model.predict(newing)\n",
    "print(np.argmax(predictions))"
   ]
  },
  {
   "cell_type": "code",
   "execution_count": null,
   "id": "7f5e1478",
   "metadata": {
    "id": "fd514bd5",
    "outputId": "da5e9c21-80b7-429f-8373-6d0d60e7aba3"
   },
   "outputs": [],
   "source": [
    "img1 = cv2.imread(\"dataset_dilate/2/img (1).png\")\n",
    "plt.imshow(img1)\n",
    "\n",
    "gray = cv2.cvtColor(img1, cv2.COLOR_BGR2GRAY)\n",
    "resized = cv2.resize(gray, (28,28), interpolation = cv2.INTER_AREA)\n",
    "newing = tf.keras.utils.normalize (resized, axis=1)\n",
    "newing = np.array(newing).reshape(-1, IMG_SIZE, IMG_SIZE, 1)\n",
    "predictions = model.predict(newing)\n",
    "print(np.argmax(predictions))"
   ]
  },
  {
   "cell_type": "code",
   "execution_count": null,
   "id": "10a6e0e4",
   "metadata": {
    "id": "36a6a7ed",
    "outputId": "c968e3a8-b4fc-43bd-d5f5-4af0bf2a7f56"
   },
   "outputs": [],
   "source": [
    "img1 = cv2.imread(\"dataset_dilate/3/img (1).jpg\")\n",
    "plt.imshow(img1)\n",
    "\n",
    "gray = cv2.cvtColor(img1, cv2.COLOR_BGR2GRAY)\n",
    "resized = cv2.resize(gray, (28,28), interpolation = cv2.INTER_AREA)\n",
    "newing = tf.keras.utils.normalize (resized, axis=1)\n",
    "newing = np.array(newing).reshape(-1, IMG_SIZE, IMG_SIZE, 1)\n",
    "predictions = model.predict(newing)\n",
    "print(np.argmax(predictions))"
   ]
  },
  {
   "cell_type": "code",
   "execution_count": null,
   "id": "99798ec8",
   "metadata": {
    "id": "4654ee8b",
    "outputId": "4d0f357e-e581-48a7-83d0-acb818237c7c"
   },
   "outputs": [],
   "source": [
    "img1 = cv2.imread(\"dataset_dilate/4/img (1).jpg\")\n",
    "plt.imshow(img1)\n",
    "\n",
    "gray = cv2.cvtColor(img1, cv2.COLOR_BGR2GRAY)\n",
    "resized = cv2.resize(gray, (28,28), interpolation = cv2.INTER_AREA)\n",
    "newing = tf.keras.utils.normalize (resized, axis=1)\n",
    "newing = np.array(newing).reshape(-1, IMG_SIZE, IMG_SIZE, 1)\n",
    "predictions = model.predict(newing)\n",
    "print(np.argmax(predictions))"
   ]
  },
  {
   "cell_type": "code",
   "execution_count": null,
   "id": "6154cf47",
   "metadata": {
    "id": "868bddf3",
    "outputId": "af5c40e7-cdca-425c-f470-dd5f740c3b3f"
   },
   "outputs": [],
   "source": [
    "img1 = cv2.imread(\"dataset_dilate/5/img (1).jpg\")\n",
    "plt.imshow(img1)\n",
    "\n",
    "gray = cv2.cvtColor(img1, cv2.COLOR_BGR2GRAY)\n",
    "resized = cv2.resize(gray, (28,28), interpolation = cv2.INTER_AREA)\n",
    "newing = tf.keras.utils.normalize (resized, axis=1)\n",
    "newing = np.array(newing).reshape(-1, IMG_SIZE, IMG_SIZE, 1)\n",
    "predictions = model.predict(newing)\n",
    "print(np.argmax(predictions))"
   ]
  },
  {
   "cell_type": "code",
   "execution_count": null,
   "id": "8305a65d",
   "metadata": {
    "id": "4c9a10b6",
    "outputId": "e0949318-86ed-4c6f-bbe5-561cd17aeebf"
   },
   "outputs": [],
   "source": [
    "img1 = cv2.imread(\"dataset_dilate/6/img (1).jpg\")\n",
    "plt.imshow(img1)\n",
    "\n",
    "gray = cv2.cvtColor(img1, cv2.COLOR_BGR2GRAY)\n",
    "resized = cv2.resize(gray, (28,28), interpolation = cv2.INTER_AREA)\n",
    "newing = tf.keras.utils.normalize (resized, axis=1)\n",
    "newing = np.array(newing).reshape(-1, IMG_SIZE, IMG_SIZE, 1)\n",
    "predictions = model.predict(newing)\n",
    "print(np.argmax(predictions))"
   ]
  },
  {
   "cell_type": "code",
   "execution_count": null,
   "id": "19d4c70b",
   "metadata": {
    "id": "707b97b2",
    "outputId": "5d14bac8-ce7b-453d-8b2c-21da70446411"
   },
   "outputs": [],
   "source": [
    "img1 = cv2.imread(\"dataset_dilate/7/img (1).jpg\")\n",
    "plt.imshow(img1)\n",
    "\n",
    "gray = cv2.cvtColor(img1, cv2.COLOR_BGR2GRAY)\n",
    "resized = cv2.resize(gray, (28,28), interpolation = cv2.INTER_AREA)\n",
    "newing = tf.keras.utils.normalize (resized, axis=1)\n",
    "newing = np.array(newing).reshape(-1, IMG_SIZE, IMG_SIZE, 1)\n",
    "predictions = model.predict(newing)\n",
    "print(np.argmax(predictions))"
   ]
  },
  {
   "cell_type": "code",
   "execution_count": null,
   "id": "8364bbfa",
   "metadata": {
    "id": "7fe87b5f",
    "outputId": "692b1eea-7af9-435f-d57b-f0ce8482c107"
   },
   "outputs": [],
   "source": [
    "img1 = cv2.imread(\"dataset_dilate/8/img (1).jpg\")\n",
    "plt.imshow(img1)\n",
    "\n",
    "gray = cv2.cvtColor(img1, cv2.COLOR_BGR2GRAY)\n",
    "resized = cv2.resize(gray, (28,28), interpolation = cv2.INTER_AREA)\n",
    "newing = tf.keras.utils.normalize (resized, axis=1)\n",
    "newing = np.array(newing).reshape(-1, IMG_SIZE, IMG_SIZE, 1)\n",
    "predictions = model.predict(newing)\n",
    "print(np.argmax(predictions))"
   ]
  },
  {
   "cell_type": "code",
   "execution_count": null,
   "id": "2c0a9772",
   "metadata": {
    "id": "656563b7",
    "outputId": "699e4e4e-3aff-4f49-bf59-956117e783db"
   },
   "outputs": [],
   "source": [
    "img1 = cv2.imread(\"dataset_dilate/9/img (1).jpg\")\n",
    "plt.imshow(img1)\n",
    "\n",
    "gray = cv2.cvtColor(img1, cv2.COLOR_BGR2GRAY)\n",
    "resized = cv2.resize(gray, (28,28), interpolation = cv2.INTER_AREA)\n",
    "newing = tf.keras.utils.normalize (resized, axis=1)\n",
    "newing = np.array(newing).reshape(-1, IMG_SIZE, IMG_SIZE, 1)\n",
    "predictions = model.predict(newing)\n",
    "print(np.argmax(predictions))"
   ]
  },
  {
   "cell_type": "code",
   "execution_count": null,
   "id": "91bde4af",
   "metadata": {
    "id": "4c4a6c87",
    "outputId": "804e8cdf-5140-4a9f-d68b-a144cf1793eb"
   },
   "outputs": [],
   "source": [
    "img1 = cv2.imread(\"dataset_dilate/0/img (2).jpg\")\n",
    "plt.imshow(img1)\n",
    "\n",
    "gray = cv2.cvtColor(img1, cv2.COLOR_BGR2GRAY)\n",
    "resized = cv2.resize(gray, (28,28), interpolation = cv2.INTER_AREA)\n",
    "newing = tf.keras.utils.normalize (resized, axis=1)\n",
    "newing = np.array(newing).reshape(-1, IMG_SIZE, IMG_SIZE, 1)\n",
    "predictions = model.predict(newing)\n",
    "print(np.argmax(predictions))"
   ]
  },
  {
   "cell_type": "code",
   "execution_count": null,
   "id": "8a0e081d",
   "metadata": {
    "id": "bd42ecf5",
    "outputId": "110bb35f-ebb1-46ad-a600-f4531b854b90"
   },
   "outputs": [],
   "source": [
    "img1 = cv2.imread(\"dataset_dilate/1/img (2).jpg\")\n",
    "plt.imshow(img1)\n",
    "\n",
    "gray = cv2.cvtColor(img1, cv2.COLOR_BGR2GRAY)\n",
    "resized = cv2.resize(gray, (28,28), interpolation = cv2.INTER_AREA)\n",
    "newing = tf.keras.utils.normalize (resized, axis=1)\n",
    "newing = np.array(newing).reshape(-1, IMG_SIZE, IMG_SIZE, 1)\n",
    "predictions = model.predict(newing)\n",
    "print(np.argmax(predictions))"
   ]
  },
  {
   "cell_type": "code",
   "execution_count": null,
   "id": "0a414a02",
   "metadata": {
    "id": "4294120f",
    "outputId": "b210c68f-2883-436b-f0a6-cdf2b543e3c4"
   },
   "outputs": [],
   "source": [
    "img1 = cv2.imread(\"dataset_dilate/2/img (2).png\")\n",
    "plt.imshow(img1)\n",
    "\n",
    "gray = cv2.cvtColor(img1, cv2.COLOR_BGR2GRAY)\n",
    "resized = cv2.resize(gray, (28,28), interpolation = cv2.INTER_AREA)\n",
    "newing = tf.keras.utils.normalize (resized, axis=1)\n",
    "newing = np.array(newing).reshape(-1, IMG_SIZE, IMG_SIZE, 1)\n",
    "predictions = model.predict(newing)\n",
    "print(np.argmax(predictions))"
   ]
  },
  {
   "cell_type": "code",
   "execution_count": null,
   "id": "cec5c06c",
   "metadata": {
    "id": "8bcdd21d",
    "outputId": "e0633da6-e84a-4ebd-eb13-e430ef04b51e"
   },
   "outputs": [],
   "source": [
    "img1 = cv2.imread(\"dataset_dilate/3/img (2).jpg\")\n",
    "plt.imshow(img1)\n",
    "\n",
    "gray = cv2.cvtColor(img1, cv2.COLOR_BGR2GRAY)\n",
    "resized = cv2.resize(gray, (28,28), interpolation = cv2.INTER_AREA)\n",
    "newing = tf.keras.utils.normalize (resized, axis=1)\n",
    "newing = np.array(newing).reshape(-1, IMG_SIZE, IMG_SIZE, 1)\n",
    "predictions = model.predict(newing)\n",
    "print(np.argmax(predictions))"
   ]
  },
  {
   "cell_type": "code",
   "execution_count": null,
   "id": "40ca5dc2",
   "metadata": {
    "id": "f960d337",
    "outputId": "0433e5e1-62ed-465c-f972-497f32ee3266"
   },
   "outputs": [],
   "source": [
    "img1 = cv2.imread(\"dataset_dilate/4/img (2).jpg\")\n",
    "plt.imshow(img1)\n",
    "\n",
    "gray = cv2.cvtColor(img1, cv2.COLOR_BGR2GRAY)\n",
    "resized = cv2.resize(gray, (28,28), interpolation = cv2.INTER_AREA)\n",
    "newing = tf.keras.utils.normalize (resized, axis=1)\n",
    "newing = np.array(newing).reshape(-1, IMG_SIZE, IMG_SIZE, 1)\n",
    "predictions = model.predict(newing)\n",
    "print(np.argmax(predictions))"
   ]
  },
  {
   "cell_type": "code",
   "execution_count": null,
   "id": "7d21cffb",
   "metadata": {
    "id": "36a12af4",
    "outputId": "824ef2f2-a2ac-4124-e847-4119397375b4"
   },
   "outputs": [],
   "source": [
    "img1 = cv2.imread(\"dataset_dilate/5/img (2).jpg\")\n",
    "plt.imshow(img1)\n",
    "\n",
    "gray = cv2.cvtColor(img1, cv2.COLOR_BGR2GRAY)\n",
    "resized = cv2.resize(gray, (28,28), interpolation = cv2.INTER_AREA)\n",
    "newing = tf.keras.utils.normalize (resized, axis=1)\n",
    "newing = np.array(newing).reshape(-1, IMG_SIZE, IMG_SIZE, 1)\n",
    "predictions = model.predict(newing)\n",
    "print(np.argmax(predictions))"
   ]
  },
  {
   "cell_type": "code",
   "execution_count": null,
   "id": "3822d98a",
   "metadata": {
    "id": "da212eba",
    "outputId": "28aee833-155e-4f4d-fc58-b535d7f4b682"
   },
   "outputs": [],
   "source": [
    "img1 = cv2.imread(\"dataset_dilate/6/img (2).jpg\")\n",
    "plt.imshow(img1)\n",
    "\n",
    "gray = cv2.cvtColor(img1, cv2.COLOR_BGR2GRAY)\n",
    "resized = cv2.resize(gray, (28,28), interpolation = cv2.INTER_AREA)\n",
    "newing = tf.keras.utils.normalize (resized, axis=1)\n",
    "newing = np.array(newing).reshape(-1, IMG_SIZE, IMG_SIZE, 1)\n",
    "predictions = model.predict(newing)\n",
    "print(np.argmax(predictions))"
   ]
  },
  {
   "cell_type": "code",
   "execution_count": null,
   "id": "e1b3bbd9",
   "metadata": {
    "id": "6c2df54a",
    "outputId": "94a022ae-6ff9-4cd2-fb1e-82b7dfc0304e"
   },
   "outputs": [],
   "source": [
    "img1 = cv2.imread(\"dataset_dilate/7/img (2).png\")\n",
    "plt.imshow(img1)\n",
    "\n",
    "gray = cv2.cvtColor(img1, cv2.COLOR_BGR2GRAY)\n",
    "resized = cv2.resize(gray, (28,28), interpolation = cv2.INTER_AREA)\n",
    "newing = tf.keras.utils.normalize (resized, axis=1)\n",
    "newing = np.array(newing).reshape(-1, IMG_SIZE, IMG_SIZE, 1)\n",
    "predictions = model.predict(newing)\n",
    "print(np.argmax(predictions))"
   ]
  },
  {
   "cell_type": "code",
   "execution_count": null,
   "id": "8d16135d",
   "metadata": {
    "id": "bcefaaab",
    "outputId": "d3134eec-24e1-456b-e8ef-e453bde2b421"
   },
   "outputs": [],
   "source": [
    "img1 = cv2.imread(\"dataset_dilate/8/img (2).jpg\")\n",
    "plt.imshow(img1)\n",
    "\n",
    "gray = cv2.cvtColor(img1, cv2.COLOR_BGR2GRAY)\n",
    "resized = cv2.resize(gray, (28,28), interpolation = cv2.INTER_AREA)\n",
    "newing = tf.keras.utils.normalize (resized, axis=1)\n",
    "newing = np.array(newing).reshape(-1, IMG_SIZE, IMG_SIZE, 1)\n",
    "predictions = model.predict(newing)\n",
    "print(np.argmax(predictions))"
   ]
  },
  {
   "cell_type": "code",
   "execution_count": null,
   "id": "188f8d62",
   "metadata": {
    "id": "6c7c33ba",
    "outputId": "d509946a-6be5-4ef2-82d5-60382d8fab55"
   },
   "outputs": [],
   "source": [
    "img1 = cv2.imread(\"dataset_dilate/9/img (2).jpg\")\n",
    "plt.imshow(img1)\n",
    "\n",
    "gray = cv2.cvtColor(img1, cv2.COLOR_BGR2GRAY)\n",
    "resized = cv2.resize(gray, (28,28), interpolation = cv2.INTER_AREA)\n",
    "newing = tf.keras.utils.normalize (resized, axis=1)\n",
    "newing = np.array(newing).reshape(-1, IMG_SIZE, IMG_SIZE, 1)\n",
    "predictions = model.predict(newing)\n",
    "print(np.argmax(predictions))"
   ]
  },
  {
   "cell_type": "code",
   "execution_count": null,
   "id": "f60a256c",
   "metadata": {},
   "outputs": [],
   "source": [
    "predictions = model.predict([X_binary_test])\n",
    "print(np.argmax(predictions[1]))\n",
    "plt.imshow(X_binary_test[1], cmap = 'binary')"
   ]
  },
  {
   "cell_type": "code",
   "execution_count": null,
   "id": "1589ce0d",
   "metadata": {
    "id": "acbfcf80"
   },
   "outputs": [],
   "source": [
    "predictions = model.predict([X_binary_test])\n",
    "print(np.argmax(predictions[53]))\n",
    "plt.imshow(X_binary_test[53], cmap = 'binary')"
   ]
  },
  {
   "cell_type": "code",
   "execution_count": null,
   "id": "768234a5",
   "metadata": {
    "id": "62b19076"
   },
   "outputs": [],
   "source": [
    "predictions = model.predict([X_binary_test])\n",
    "print(np.argmax(predictions[102]))\n",
    "plt.imshow(X_binary_test[102], cmap = 'binary')"
   ]
  },
  {
   "cell_type": "code",
   "execution_count": null,
   "id": "5e955d7c",
   "metadata": {
    "id": "08c12ff9"
   },
   "outputs": [],
   "source": [
    "predictions = model.predict([X_binary_test])\n",
    "print(np.argmax(predictions[153]))\n",
    "plt.imshow(X_binary_test[153], cmap = 'binary')"
   ]
  },
  {
   "cell_type": "code",
   "execution_count": null,
   "id": "a0a2b796",
   "metadata": {
    "id": "3dd67cf0"
   },
   "outputs": [],
   "source": [
    "predictions = model.predict([X_binary_test])\n",
    "print(np.argmax(predictions[202]))\n",
    "plt.imshow(X_binary_test[202], cmap = 'binary')"
   ]
  },
  {
   "cell_type": "code",
   "execution_count": null,
   "id": "4717e359",
   "metadata": {
    "id": "a2b8443a"
   },
   "outputs": [],
   "source": [
    "predictions = model.predict([X_binary_test])\n",
    "print(np.argmax(predictions[252]))\n",
    "plt.imshow(X_binary_test[252], cmap = 'binary')"
   ]
  },
  {
   "cell_type": "code",
   "execution_count": null,
   "id": "6a571ef4",
   "metadata": {
    "id": "42129deb"
   },
   "outputs": [],
   "source": [
    "predictions = model.predict([X_binary_test])\n",
    "print(np.argmax(predictions[302]))\n",
    "plt.imshow(X_binary_test[302], cmap = 'binary')"
   ]
  },
  {
   "cell_type": "code",
   "execution_count": null,
   "id": "675ea83a",
   "metadata": {
    "id": "424102d2"
   },
   "outputs": [],
   "source": [
    "predictions = model.predict([X_binary_test])\n",
    "print(np.argmax(predictions[352]))\n",
    "plt.imshow(X_binary_test[352], cmap = 'binary')"
   ]
  },
  {
   "cell_type": "code",
   "execution_count": null,
   "id": "f4fd377b",
   "metadata": {
    "id": "cb366e2a"
   },
   "outputs": [],
   "source": [
    "predictions = model.predict([X_binary_test])\n",
    "print(np.argmax(predictions[402]))\n",
    "plt.imshow(X_binary_test[402], cmap = 'binary')"
   ]
  },
  {
   "cell_type": "code",
   "execution_count": null,
   "id": "51c69ae5",
   "metadata": {
    "id": "60d193b1"
   },
   "outputs": [],
   "source": [
    "predictions = model.predict([X_binary_test])\n",
    "print(np.argmax(predictions[452]))\n",
    "plt.imshow(X_binary_test[452], cmap = 'binary')"
   ]
  }
 ],
 "metadata": {
  "colab": {
   "collapsed_sections": [],
   "name": "Nyoba_3-Copy2 (1).ipynb",
   "provenance": []
  },
  "kernelspec": {
   "display_name": "Python 3 (ipykernel)",
   "language": "python",
   "name": "python3"
  },
  "language_info": {
   "codemirror_mode": {
    "name": "ipython",
    "version": 3
   },
   "file_extension": ".py",
   "mimetype": "text/x-python",
   "name": "python",
   "nbconvert_exporter": "python",
   "pygments_lexer": "ipython3",
   "version": "3.9.7"
  }
 },
 "nbformat": 4,
 "nbformat_minor": 5
}
